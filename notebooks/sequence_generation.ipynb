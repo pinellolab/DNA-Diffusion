{
  "cells": [
    {
      "cell_type": "markdown",
      "metadata": {
        "id": "S2Zla6WJOf1R"
      },
      "source": [
        "# Cloning repository and installing dependencies"
      ]
    },
    {
      "cell_type": "code",
      "execution_count": null,
      "metadata": {
        "collapsed": true,
        "id": "LAvoel8bZ72P"
      },
      "outputs": [],
      "source": [
        "!git clone https://github.com/pinellolab/DNA-Diffusion.git && cd DNA-Diffusion && uv sync"
      ]
    },
    {
      "cell_type": "code",
      "execution_count": 2,
      "metadata": {
        "colab": {
          "base_uri": "https://localhost:8080/"
        },
        "id": "b17jNfakaODu",
        "outputId": "99c9ae5e-fd9d-49d9-901d-513750eb4967"
      },
      "outputs": [
        {
          "name": "stdout",
          "output_type": "stream",
          "text": [
            "/content/DNA-Diffusion\n"
          ]
        }
      ],
      "source": [
        "%cd DNA-Diffusion"
      ]
    },
    {
      "cell_type": "markdown",
      "metadata": {
        "id": "gPl0-EM0Oivj"
      },
      "source": [
        "# Generating sequences"
      ]
    },
    {
      "cell_type": "code",
      "execution_count": 3,
      "metadata": {
        "colab": {
          "base_uri": "https://localhost:8080/"
        },
        "id": "8NVFthhyaXKG",
        "outputId": "ed804d9a-2191-46e5-bc90-abd2e5d4da05"
      },
      "outputs": [
        {
          "name": "stdout",
          "output_type": "stream",
          "text": [
            "model:\n",
            "  _target_: src.dnadiffusion.models.pretrained_unet.PretrainedUNet.from_pretrained\n",
            "  pretrained_model_name_or_path: ssenan/DNA-Diffusion\n",
            "data:\n",
            "  _target_: src.dnadiffusion.data.dataloader.get_dataset_for_sampling\n",
            "  data_path: data/K562_hESCT0_HepG2_GM12878_12k_sequences_per_group.txt\n",
            "  saved_data_path: data/encode_data.pkl\n",
            "  load_saved_data: true\n",
            "  debug: false\n",
            "  cell_types: null\n",
            "diffusion:\n",
            "  _target_: src.dnadiffusion.models.diffusion.Diffusion\n",
            "  timesteps: 50\n",
            "  beta_start: 0.0001\n",
            "  beta_end: 0.2\n",
            "sampling:\n",
            "  checkpoint_path: ssenan/DNA-Diffusion\n",
            "  sample_batch_size: 5\n",
            "  number_of_samples: 10\n",
            "  guidance_scale: 1.0\n",
            "\n",
            "config.json: 100% 153/153 [00:00<00:00, 1.26MB/s]\n",
            "model.safetensors: 100% 378M/378M [00:01<00:00, 308MB/s]\n",
            "Model sent to cuda\n",
            "Found cell types: ['GM12878_ENCLB441ZZZ', 'HepG2_ENCLB029COU', 'K562_ENCLB843GMH', 'hESCT0_ENCLB449ZZZ']\n",
            "Generating 10 samples for cell GM12878_ENCLB441ZZZ\n",
            "100% 2/2 [00:09<00:00,  4.87s/it]\n",
            "Generating 10 samples for cell HepG2_ENCLB029COU\n",
            "100% 2/2 [00:09<00:00,  4.64s/it]\n",
            "Generating 10 samples for cell K562_ENCLB843GMH\n",
            "100% 2/2 [00:09<00:00,  4.76s/it]\n",
            "Generating 10 samples for cell hESCT0_ENCLB449ZZZ\n",
            "100% 2/2 [00:09<00:00,  4.83s/it]\n"
          ]
        }
      ],
      "source": [
        "!uv run sample_hf.py sampling.number_of_samples=10 sampling.sample_batch_size=5"
      ]
    },
    {
      "cell_type": "code",
      "execution_count": 4,
      "metadata": {
        "colab": {
          "base_uri": "https://localhost:8080/"
        },
        "id": "zQRv3dADa_3P",
        "outputId": "5e1930dc-f25d-48fd-edb5-0b6706a80128"
      },
      "outputs": [
        {
          "name": "stdout",
          "output_type": "stream",
          "text": [
            "Displaying sequences from: data/outputs\n",
            "\n",
            "--- Cell Type: GM12878 (GM12878_ENCLB441ZZZ.txt) ---\n",
            "TTGAGTTGTTTGAATAGTAACATGTACATACATAGTTTTGGTTCCCATTTGGAGTTAAATCTATGCATGACACATTCATTTCATTTGCAATACTGGTTAGTCATTAATTAGACTGAAATTTGATTGGTACTTCACTTTCTATCTCTAGTTATTGTGGTTTCTGGTGGTGTGTGCTGATCAAGGGGAGAATACAGTGCACT\n",
            "AAGGACTAACTAAAACCGAAAACACCTAAGATTTTGGAATTTCCCTCCTTGCTTTCTATGTGCCTAGCTTGGAGACCATGAGGGTGTTGTTGAAACGAGAAATACATGAGGGTAGACTTTCACCTGTCGTTTCCATGAGTAAAATGATACTAAAGTAAAGTTTGAAGACAACGAGTTGTGTTACATGCTGTTTCTTTCTC\n",
            "ACCACTAACAAAAACTGTTTTCAACGGAACCATTTTAGTTTCAGAACTTACCACATCTATGTGTGAGTCAGCAGAGTGAAAAGCAAAATAGGAAATATTAAGAAACACGCTCAAATAAATGTGATGTTATGGGGGAAATCCTGACTTTGTCACATGAAAAGGAAATGCAGCGTCATGGAAATAACTACCACCTACAAAGT\n",
            "TACTTTCAAAAGATATATGAAAGGAAACATATTGTCTGTTTCATTTTCATTTTCTGAATTCTATCTAGCCAACCATAGTTGAACTCACAGTGTTAGCAGGGTTTAACCCCTGATTTGCCCCATTTTCGGTATAGCTCTGCACAAACTCATGACTGCCTGTCTTCTTTCAGGCAAAAGCTTTGTTCAAATTAGAGCAACTG\n",
            "AGTCACTTGCGCCTAAGTGCACACAATGAGAGTAGGTGCTGCTGGAGGCTTCTCCCTGCAGCTGTTTGGGCTGCATGGGACCCGCTGACCCCACTCACCTAAACCAGCGGGCCTTCAAGCCGCACTCAGCTTCAGTGATTTATTTTAATAAACTGAACCCCAGAAGCACAGAGAGAGAAACAAAGAAAAACAAAACATCT\n",
            "GGATTGCTATGAGCTAAAATACTTTTCTACCACCTCAGAGCTGTTAACCACTTCCTGTTTTAATTTAAGCATCTGCCAACCACAAAAACAACCCAAGTAAAACCCCAAGTGCTGACTTTCATTTCTGCAACTACTCTTTCCCCTTGTTACAAGTATGTGATGTTGCTACTATTAAAAGACGCCAAATGAACAATCTGATT\n",
            "GATGTTATTTGGGTCGCAGTTCCCTTCTGTAACAAGTCATTGTATGGTTTACCACCCTTTGTGAAGTCACAGAAACAACAAAGCTAACTTATGCATGCCTTCTGGAAAACCCTCTGAAATGACAGGGCATCATGACTTCCTTTCTTACTGAGCTTTGAAGTATTAATGAGCAACGTTGCTACATAACTGGCCGCTGACAG\n",
            "AATCTCTCAACAGGTTACTTTCTTAGCTGTCTGTCTAAAACTGAGTTTCAGTTTCAGTCTCTAGAGTTGACACTGCTTCATCTTGGCAGCAACCAAAGAATCTACATCTTGAAGGCAATGGTGCATTTCAGCTGAGGGAGAGAGGTCATGTCAAAATCACACTGGATGTAGCATCGGGCAGACACATATACGAATAGATT\n",
            "ACTGAAATGCCACAGTGGAGGTTTCACAGTGAGAAACCAAACTAGCTGAGTGACACCAGCCCATGGCCTCTGCCAACTGATGAAATGATGAGATGTGCTTAAAACATATGTCAGAAACTTTCTACTGAAGTGCAGCCTCAGAATGATAGTTTCAGTTCCTATTTTTGGTTTTATGTCTACATCTTATGCAGAATTATGCT\n",
            "GTCTTTCTAGCTCATGTGCATTCATCATACAGAACTGAAAGAAACAGTTTACTGGCTGGGACCACATTTTAGTCAGTTTTGATTTTAAAATTATTTAGGGTTTCTAAGGTGAAAAACAAGTGTTTTCAGCCCTTAGAGCTGAAACATGAATACTAATTGCTCCATGGTTTGAAAACCTGTAAGCATTGCTGTATTGATCA\n",
            "-------------------------\n",
            "\n",
            "--- Cell Type: HepG2 (HepG2_ENCLB029COU.txt) ---\n",
            "AATTCTGTCACTTACTGAATGCATGCTGGCCTCTCTTCTATTAACCGCAATGTTAGACAAGAGAACATGGTAAGTTAATGATTGTAATTTATTTACTGAATGAATAGATTGATGCCATTGTTTTTGAAGAGCAAAGTCCTCTGTGGGCACATATTGGATAAAGCCTCTCTGTACAACCTCTCTTCTGCATCTCAGTTTCC\n",
            "GTCATGGGAAAAGGCTTTCGCTTTGTGTCGCTGGTGCAAAGGGCAGTCCCTGGAGGTGACAGGCCTCCACTGCAGCCTCCATTCACACGCAGGGCAGAGGCCATTTTCAGCCGCATCTTCCCAGTTCATTCCTGATCCAGAGGTCACATATGTTAATCATTAAACAGAGTAGTAGGTGCTTAGTACCTGACAGCTCTGCA\n",
            "CCAATGTCCTCCCAGCAACTGCTAAACAAATATACTTTACAATGGCCCTCTGCCCTTTGAAGTCAGGTGGTCTAGGTTAATATTGAGGGCACTTGCTATCAGAAGGAAAGTCATCCCAGCCAGAGGCCGGTTTGCCCTTGCAACAGCCACCAGTGTTTGATTTACAGGGAAGCGAGGCCAAGGGACATGGAGAAGGCACT\n",
            "GTAATCCAAGATAAAAAACATGGCCATGCAATAGCTCTACACAGTTGAAGTTCAAACACTGACCTCAAAGGATCCACATGGTCCATAGGCTGAGTGAGAGGCAGGGCATGGTGCCACAGATGACTTTGCCGTGGGCATCTGAGGTATCAATGCCACTTTTTTTTTTTTTTGAAACAAAGTCCAGCTTTGTTGCCCAGGCA\n",
            "AGTCCATTTTGCTCATGAAGCCCTGTACTTTACAGCCCAAGGTGCAAGGGATGTCACCATCAGACAGTAAGAAGCACATAGAATTGTGTAACTCTGGTCAGAGGTGAGGTCAAAGTGCAGGTCAGGTTATTTTTCCATTGACCTCTTTGCTCAATGGATACCCTGTGCTATATATAGTCTTTCTCAATATTGCAAAAGCA\n",
            "GTCCTAACAGATAGTACAAAATAAAAGTATGTGCAACGCTTGTTTGCAGAGAACAGTTTACCCACATGTTTGTTTAACTCTCCTGGCACCAGGCCAAAGTTCAATAAATATTGAGCAATATGACCTTTGGCAAGTAGTTCTCCATGACCTGTGAATCCAGGCATTTCCATGAGGACGCCTGGGGTACATACAAATATGTA\n",
            "CTGGGACTTGCTAGTGGATGTTGGGAAGCCAGTAAGTACCCTCCCTGGCCTTTGCTCTCCTGACGCCCACCACCAGGAACCGTCTGAGTCTGGGTAAACAGAAGCCTCTGTGCATGGATGGCACATTTATAAGCAACAGTCAGTGTCATGCAGCAGCCCAGGGTGTGAAGTGGACATTTGCTCAGAACAAGCTGTCTGAA\n",
            "AAATTATTCTTGTTCCTGCACAGGCAAAATTCCAAAGACCTGTTTGCTCTTGACAAACACAATGCACCATGTAAATAGCTCTTATGACAAATAAATAGAATCTTCTGTGAATCTGCCTTTCAAGTATATGGCATTATTTGTTCTGTTTGCATCTCTGTAAATATTTGGCCAGGCTCAGGTGTCTAAAAAGAACCGAATAT\n",
            "CTGAATCTTCTCTTTGAGACAAACTTATTCTGGTTTTTAGCTCCTGAGCATGGAAGCAGCATTAACATTCGTGTTCTCTGGTTCAAGGTCAGGATGATGGTGAGTAAACAGGTTTGTTTGCTTGATGACAACACACTTTGTCCCTTACATTTTTTGTTTTCATGTTCCCTTTGTTTTGCACTGTTTTTCCAGAGTTCTTC\n",
            "CCTGGCATGTGTGCATACATGTTGTCAGCTCTGGCTCAGAGTTGGTCAAAGTCCGACTGGGTGACATTGCCATGAGGAGCATGACAGGGCCTGGGGGTCATGCTCCCCGTGCCTTCCTGCCCCCTTGCGTAACTCTGCCGCCCCCACCAGCAGGGGGCCGGGGGCAGGGAGGGCCTGGGCAGGGCCCACATGGCGCTGGA\n",
            "-----------------------\n",
            "\n",
            "--- Cell Type: K562 (K562_ENCLB843GMH.txt) ---\n",
            "TAGATCCATCTCAAGGGCTTCCAGGATAAAATGAGCAAGCGACTGAGTAGACTATGTTACCTGCAAGCAAGCAGGGTGAATAGTCATGAACTGTCACCGTACAGCTGTATTCTGAATAAAGGGGCGCTCTGGTTAGCATCTCTGCTGCAGCTGAGGCCCCAGTTCTGAGGTCTTTGTATCACTTACCACCTTCTGAGTGC\n",
            "TAGGGATGCGATGTAGGATATTAGGACAACTTTCACTGACTCATAACAGTAGACTGTGGTTTGACTCATTTTATCTCACCTGACATTGCTTTCCACAAACACACTCATATCTAGGTCTGGTGGAACTAAGAACAGGCACAAATAGATAAGAGGATAGATTTATTGCTTTCTTTCAGTCTGGGTCTGGAAGAACATGAGTA\n",
            "TGGAAGATCATGGGGTCAGGGTTGTTTGATAGTTTATAAACCGCGAAGTATTCTCGAAACTAGCTTATCACCTAGAGACAGATGAGTCATACCTGTGCCTTGTCCGGCCTCTGGCCACTCAGCCACACCGAGTCTCCATATGGCAGAGGTCGAAGCTAGAAAATAAGCAAGCTCAACACGGAGCAGACACGTGCGAGGAA\n",
            "AAGAGGTTTACTGCAGCTGTGAGGAGAAGGGCAAGTGAGCCTGCTGGAGTTAGGGCAGACCCTGCTATCTTAGCAGAAAGATTCAGGGCAGGGAAGCTGGCAGGTTTGTGTTAGCGTCTTATCAGGACTGTGCACACGCTTCAACACCTGAAGATTATTTATAGTGGCCACAGTCCGATAGCATTTCGCTGCAAGCTGAT\n",
            "CACCTTCCTCCCCCTGCCTCCTCCTCTTTTCTAGTGATGAGTCATCATCTGTTGTTATGTCTTGACCTTCCTTATCTCAATGACTGGAACTCTGCATAGGAAGGGTCTCTTAGACAGGGGCCAAGCCCGGAGCTTCCACACTGGCCTTTATCTGAGCGCTGTCCTTACCAGGCTCTTGGTCTTGTGCTTCTTCCGTGCTA\n",
            "ATCACCCCAGAGATGTCTTCTGAGTTGAGTGAGTGTGTATATGGCTGTGAGATAAGATAACAGTTTGTAAGGCAGAAACAGAGATAACATCACCCAGCTTATTGTGGCAGGAGGCATGGAGTTCTCTGCCCTGTGACGAGGGCAGCTGGGGACCTACTGACCTGGGATCGTTTACTAAGGCAGGACTTGCGTTCCTGCCT\n",
            "TAAATACCACATCAGCAAATCCAACATGTGGACTCCTGGCTGAATAGGCCTTAGATCCACCACAAAGTGGGGGACTGCTCACACATGATGGGTTCAGATAGGGCCTAACTGCCACTCAGTCATTTCCTTCACTTCTGGCTTCTTTATTGCTTGATGTTCCTGTAAAAAGTGTCAAAATGGTCTGAAAGGCAGAGATAAAG\n",
            "CTGTGTGTCAGCGGTGATGCTTCCACTGCCCACGAAGCCGTCTGGAGCAACTACCGCATGGGAGACCCAGGGCAGGAGATGGCAGGAGATGGGACGAGTCATGGCCCCTCCCTGCAAACCGCGAGAGTCACCGGGGCCCCGGAGCTGGGGCCGGACCGCAGCCTCACGCGCGGCTGTGGGCAGACCATGACAATTCACCT\n",
            "ATCTTAATGATGAAATATATTCTGACTTATCAGCCAAAGGCGTGGGTGGACACTGACCTCACCAGAGACGGATAGAGCAAAGACTTATCATATCTTCACACATAGATAAGGATAATGCTGTCCTTGTGCTGCTAAAGATTATCTCTCAAGGTCAGAACTAACATTTCTCTAGACACAAGAAACATTCTCCCTAGTCCACA\n",
            "TGGGCTCCTGATTTTGCATCTTATCTCTGTGTACAGTTATGGAGCAGTGGACCACAGGCCGCAGTTGCTCCCATGCTTCCACTATCTCACTCGCTGAAACCACGCGTAAGGCAATTCTCTATCTTCCGAGATAATGTGCTGAGGAAGACAAGGGTGGCCTGTGTAATCTATGGTGTCAGGTCAGCGTCCAGAACACAGGG\n",
            "----------------------\n",
            "\n",
            "--- Cell Type: hESCT0 (hESCT0_ENCLB449ZZZ.txt) ---\n",
            "GACCTAGATCTGACACCCCTCTAGCAAGCTCACAAGAGCGCACACCCTTGCCTGCAGCTTACTCACAGCTGGGATCCCTTCTCCTTGCATATGTGAATTTCTGCTATGAAGTCCTCGGTTCATGTTTTGCAGATTTGCAACAGGGCCCAACTGTTGTGATTGACACCTCCATTTTCTTTCTCATCTTAGGTTAAGGGCAT\n",
            "ATGAGGCTTGAGCTCAGCAAAGCTTAGAAAGGAGAAAGAGCCTTCCCTGCCAATCCCAACTTGAATTTAGAATGCCTGTCTGCTCTTACAAAAGCCCAGGGAGGCCAGAGAAAAACTTGCTTCCAGGAACTGCAGGCATTCATGCTGACTCTCCCCAGCTAGTAATTAAGCTAAATATACCCTGATGAATAACAAAGAAG\n",
            "CAGGGAGGAAAAAGGCATGCATGAAGTACAGAAGGAGCATCTTCCTCAGGGGGGAGTGAGCTGTGAGATTCTCTCCCACTGAGCCCTCCCAGCAAAGGCGGGACTTGAGTCAAATAGGCCCCCAAGCAAGGGGGAGAAGGGCCTGCCTGGAATTCATGGCCAGAAATCACCTGACACTGGGAAGGGGGCACGGTTTGATG\n",
            "ACAACCCCTCCCTCTTCACAGGCATAAGTATTCAGGAATGCAGTGATTTCAAGACACAGGAGGAGAAGCAGACTGTTGCATTTGCATATGAAAAGAGAGCTGGGAAGATGTCCACAGGGGGTGTCTCTCTGGGAGTGGGGCGACAGTACAAGCTAGGCTGCCTTGGGCAGGGCAGGCAAGGAGGGAAGGGGAAAGAAGGG\n",
            "CCTCACAATGTATCAGGCTCCCAGGTGGCTCTGTAACCTGGTAGCTGAACTAATACTTGCCACAACTGCACAAGTCCTCCCCTGCCCTTAGAATTTGCCCTTCAAGAGTTTCCTCTTTTGATTGCCTTTTCTCTTCTTGTTCAATTAACACTTAAGTGATTGGCCAGTTCCTCTGAAATGTTAACTACCTACTATGTTAG\n",
            "ACTCCCTGAGGGCACTAAGCATGCCTGGACTTAGGGAAAGAGGGGTATAAAGGAAAAGGAAGGTCACACACTAGGGGTTCCTCTGATCCAGGTGATTGCCTTTCCCCTTGCGCCTTCCCAGCAATTAGATTGCTAATGTTGCCCAGCTGGAGTTCAGTGCTTAATGCCATGGGAATGGGATGTGGGTTTTAGCAGGAGGG\n",
            "GGAACCTTGGATTCTTTGTCTCAGAGCTACTTACCCTGCACCACGTGTGGGCCCATAAAGCCTCCCTCAGTGCACAGTGTGAGGCTGCAAGCCTCCTCCAGGAGCAGGAACCTGGGGGGCCCCTTACAAATGCAGATTCCATCCCCTCTCTCTAGTACTCAATACATCTCAGTATATGGGCAAAGACCTGCACTTGTAAC\n",
            "ACCTGGCAGCGAGTGTTAAGGATGCTGAATGGGGGCCACCAGCAGGTTAAAGGACATAGGAGAGAGATTGCCTTGGGAGATAGTTGCCTGAGATCCCACAGAGAGCTTGAGAGTCAAAGGAGTGGGTCCTGCTATGTGTGAGAATTGGCAGCGGGATCCAAGCTTCTCAAGAGAAAAGCAGTGTGATACCATCATTTCCA\n",
            "CAGCCCTCCTTACAGGGGAGGAACTGGGATTTGTCCCCCCCACAGGTCCTCACATTGAGGCCATTGTATCTGTTCTGTGGGGAGTCTTTAGTTCTTTTGTTTTTTCCTTGGGGTGCAGGCAGGGGGGTGGGAAGCAGGATTTTTGTTTCCTCAGATGTTGCCATCAGAAGAGACTGAGGAGGATGCAGAAATAGGAAAAA\n",
            "ACCCCACAGTGCCTGCTTACAGCTACAGTTTGTCTCCGGAAGGCCCACCTCCCAGCAGGATGTCATGAACGCAGGCTCCATGTCAGCAGCACCAAGGGTGCTGGTGGCTTTTAGGCCCACTAGGGCAGGGCAGGTGTGAAGGGGTCAGGAGCGCAGCAGTCTCGGAGCAGGGGATGAGGGGTGGAGTACGGTAGGCGACC\n",
            "------------------------\n",
            "\n"
          ]
        }
      ],
      "source": [
        "import os\n",
        "import subprocess\n",
        "\n",
        "def display_sequences(output_dir=\"data/outputs\"):\n",
        "    if not os.path.isdir(output_dir):\n",
        "        print(f\"Error: Directory '{output_dir}' not found.\")\n",
        "        return\n",
        "\n",
        "    print(f\"Displaying sequences from: {output_dir}\\n\")\n",
        "\n",
        "    for filename in sorted(os.listdir(output_dir)):\n",
        "        filepath = os.path.join(output_dir, filename)\n",
        "\n",
        "        if os.path.isfile(filepath) and \"gitkeep\" not in filepath:\n",
        "          cell_type = filename.split('_')[0]\n",
        "          print(f\"--- Cell Type: {cell_type} ({filename}) ---\")\n",
        "          result = subprocess.run(['cat', filepath], capture_output=True, text=True, check=True)\n",
        "          print(result.stdout)\n",
        "          print(\"-\" * (len(cell_type) + 18) + \"\\n\")\n",
        "\n",
        "display_sequences()"
      ]
    },
    {
      "cell_type": "markdown",
      "metadata": {
        "id": "yl8yIo8SOnwF"
      },
      "source": [
        "# Generating sequences with guidance scale 7.0"
      ]
    },
    {
      "cell_type": "markdown",
      "metadata": {
        "id": "Uw_4qDZAQePk"
      },
      "source": [
        "We provide the ability to tune the guidance scale used in the generation process. For more details about classifier-free guidance refer to its original manuscript https://arxiv.org/abs/2207.12598."
      ]
    },
    {
      "cell_type": "code",
      "execution_count": 5,
      "metadata": {
        "colab": {
          "base_uri": "https://localhost:8080/"
        },
        "id": "DJ7HaDUNbVQz",
        "outputId": "f1c9d977-753e-423e-bf48-fac18d37ce6c"
      },
      "outputs": [
        {
          "name": "stdout",
          "output_type": "stream",
          "text": [
            "model:\n",
            "  _target_: src.dnadiffusion.models.pretrained_unet.PretrainedUNet.from_pretrained\n",
            "  pretrained_model_name_or_path: ssenan/DNA-Diffusion\n",
            "data:\n",
            "  _target_: src.dnadiffusion.data.dataloader.get_dataset_for_sampling\n",
            "  data_path: data/K562_hESCT0_HepG2_GM12878_12k_sequences_per_group.txt\n",
            "  saved_data_path: data/encode_data.pkl\n",
            "  load_saved_data: true\n",
            "  debug: false\n",
            "  cell_types: null\n",
            "diffusion:\n",
            "  _target_: src.dnadiffusion.models.diffusion.Diffusion\n",
            "  timesteps: 50\n",
            "  beta_start: 0.0001\n",
            "  beta_end: 0.2\n",
            "sampling:\n",
            "  checkpoint_path: ssenan/DNA-Diffusion\n",
            "  sample_batch_size: 1\n",
            "  number_of_samples: 1\n",
            "  guidance_scale: 7.0\n",
            "\n",
            "Model sent to cuda\n",
            "Found cell types: ['GM12878_ENCLB441ZZZ', 'HepG2_ENCLB029COU', 'K562_ENCLB843GMH', 'hESCT0_ENCLB449ZZZ']\n",
            "Generating 1 samples for cell GM12878_ENCLB441ZZZ\n",
            "100% 1/1 [00:02<00:00,  2.35s/it]\n",
            "Generating 1 samples for cell HepG2_ENCLB029COU\n",
            "100% 1/1 [00:01<00:00,  1.86s/it]\n",
            "Generating 1 samples for cell K562_ENCLB843GMH\n",
            "100% 1/1 [00:01<00:00,  1.87s/it]\n",
            "Generating 1 samples for cell hESCT0_ENCLB449ZZZ\n",
            "100% 1/1 [00:01<00:00,  1.88s/it]\n"
          ]
        }
      ],
      "source": [
        "!uv run sample_hf.py sampling.guidance_scale=7.0 sampling.number_of_samples=1 sampling.sample_batch_size=1"
      ]
    },
    {
      "cell_type": "code",
      "execution_count": 6,
      "metadata": {
        "colab": {
          "base_uri": "https://localhost:8080/"
        },
        "id": "RRgGvJyDPXMv",
        "outputId": "b2b6fb29-db46-47e7-ae45-90b2b08845f5"
      },
      "outputs": [
        {
          "name": "stdout",
          "output_type": "stream",
          "text": [
            "Displaying sequences from: data/outputs\n",
            "\n",
            "--- Cell Type: GM12878 (GM12878_ENCLB441ZZZ.txt) ---\n",
            "ACTCTCCAGCGTTGGGTTGGGGATGTCTGCAGATCTGGGTAATGTGCTCGACAGTAAGATTGAAACTGAAACTGAAACTAGAAAAGAGGAACTGAAACCAGCAGCACTGAGAAAACCCCAGACAGAACATTAGTTTCAGTTGCGGTATGTAACTCATATGACTCTAAGCAGTTACACTTTTGGGCATGGAAGCCTAACTC\n",
            "-------------------------\n",
            "\n",
            "--- Cell Type: HepG2 (HepG2_ENCLB029COU.txt) ---\n",
            "TAGATACACCTGATGTACAAATATTCCATGCACATGTTCACATTCCCACAGTTAATAATTGCGCAAGAGATCAAAGTTCAGGTACTATAAATACTCCCCCTTGCACAATACTACTATTAGTTTTACAGACACAATGTAAATATTGAGCAATACACTCTAGAGGTCTGGAGTTTTAGCAGGGAACTTTTCTTTTAGGGAGT\n",
            "-----------------------\n",
            "\n",
            "--- Cell Type: K562 (K562_ENCLB843GMH.txt) ---\n",
            "CTCTTGATTTGCCTCCTTGTCTTCCCTCCTCGGCCCCCTCCCTCTGGTCTTCTTCTTATCTCTCCTGTGGACCGTTATCTCTCGGGCCTGCATGCACCTTATCTGCTCACTGGCAGGCCTCCCTTATCTCTGATCTTGCATGTGCCACTGCCTCACAATCTTATATTCTACGTCACCCACAACACTCGCCTCGTCAATGG\n",
            "----------------------\n",
            "\n",
            "--- Cell Type: hESCT0 (hESCT0_ENCLB449ZZZ.txt) ---\n",
            "AAGGAGGCAGTCCTAAGGAAGGGAATTCAACAAGACATTAGTGTTCCATAGAGGAAGAAGATGGCAACATTCCTTCTCCCTGCTGGGCTCCTGAGACTAACAAAGGAAGGAGAGCAATGGGGATCAATTGGATTTCTGGGGTGCTTACCAATGGAAAAGCCTTGAGGGCTCCTGGGGCCACAGTAGCTTTACAACTCTGC\n",
            "------------------------\n",
            "\n"
          ]
        }
      ],
      "source": [
        "display_sequences()"
      ]
    },
    {
      "cell_type": "code",
      "execution_count": 7,
      "metadata": {
        "id": "L7vfEie7qh7Z"
      },
      "outputs": [],
      "source": [
        "!rm data/outputs/*.txt"
      ]
    },
    {
      "cell_type": "markdown",
      "metadata": {
        "id": "6RnXeJAtmOYO"
      },
      "source": [
        "# Generating sequences for a specific cell type"
      ]
    },
    {
      "cell_type": "markdown",
      "metadata": {
        "id": "pp6ubIOWpmfh"
      },
      "source": [
        "The previous examples generate sequences for each cell type used to train the model. We can also generate sequences for a subset of the available cell types, which can be accomplished via CLI overrides. The desired cell types can be provides as comma separated string or list."
      ]
    },
    {
      "cell_type": "markdown",
      "metadata": {
        "id": "mRfZkCfUqA8s"
      },
      "source": [
        "Generating just K562 sequences:"
      ]
    },
    {
      "cell_type": "code",
      "execution_count": 8,
      "metadata": {
        "colab": {
          "base_uri": "https://localhost:8080/"
        },
        "id": "c1VVdZDImQuQ",
        "outputId": "727ad3ac-f7dc-48d4-af53-30b370d8de85"
      },
      "outputs": [
        {
          "name": "stdout",
          "output_type": "stream",
          "text": [
            "model:\n",
            "  _target_: src.dnadiffusion.models.pretrained_unet.PretrainedUNet.from_pretrained\n",
            "  pretrained_model_name_or_path: ssenan/DNA-Diffusion\n",
            "data:\n",
            "  _target_: src.dnadiffusion.data.dataloader.get_dataset_for_sampling\n",
            "  data_path: data/K562_hESCT0_HepG2_GM12878_12k_sequences_per_group.txt\n",
            "  saved_data_path: data/encode_data.pkl\n",
            "  load_saved_data: true\n",
            "  debug: false\n",
            "  cell_types: K562\n",
            "diffusion:\n",
            "  _target_: src.dnadiffusion.models.diffusion.Diffusion\n",
            "  timesteps: 50\n",
            "  beta_start: 0.0001\n",
            "  beta_end: 0.2\n",
            "sampling:\n",
            "  checkpoint_path: ssenan/DNA-Diffusion\n",
            "  sample_batch_size: 1\n",
            "  number_of_samples: 1\n",
            "  guidance_scale: 1.0\n",
            "\n",
            "Matched 'K562' to 'K562_ENCLB843GMH'\n",
            "Model sent to cuda\n",
            "Found cell types: ['K562_ENCLB843GMH']\n",
            "Generating 1 samples for cell K562_ENCLB843GMH\n",
            "100% 1/1 [00:02<00:00,  2.50s/it]\n",
            "Displaying sequences from: data/outputs\n",
            "\n",
            "--- Cell Type: K562 (K562_ENCLB843GMH.txt) ---\n",
            "ACTCAGGATCCTTTGTGAGTGTCTTTGGGGTCTGCTGTTATCTGCGGTTTCTGTGGCTAGATTCTCTCTTTTCAGAGGGTCAAGATGCGTCTGCTGATCAAGTCAGAAGAAGTGGGAGTGTAGGAGCTGCAAACTGAAAGCCTCTCTCGGATATGTGTGTTTTGAAGATACCGTGGAATACAGGAATGTGACATAGAGAA\n",
            "----------------------\n",
            "\n"
          ]
        }
      ],
      "source": [
        "!uv run sample_hf.py data.cell_types=K562 sampling.number_of_samples=1 sampling.sample_batch_size=1\n",
        "display_sequences()"
      ]
    },
    {
      "cell_type": "markdown",
      "metadata": {
        "id": "Um-McXxrqq_8"
      },
      "source": [
        "Generating both K562 and GM12878 sequences using a string CLI override"
      ]
    },
    {
      "cell_type": "code",
      "execution_count": 9,
      "metadata": {
        "colab": {
          "base_uri": "https://localhost:8080/"
        },
        "id": "b7urnWY1qqlG",
        "outputId": "90cd15c6-8cae-4508-af80-dcf2f278fc96"
      },
      "outputs": [
        {
          "name": "stdout",
          "output_type": "stream",
          "text": [
            "model:\n",
            "  _target_: src.dnadiffusion.models.pretrained_unet.PretrainedUNet.from_pretrained\n",
            "  pretrained_model_name_or_path: ssenan/DNA-Diffusion\n",
            "data:\n",
            "  _target_: src.dnadiffusion.data.dataloader.get_dataset_for_sampling\n",
            "  data_path: data/K562_hESCT0_HepG2_GM12878_12k_sequences_per_group.txt\n",
            "  saved_data_path: data/encode_data.pkl\n",
            "  load_saved_data: true\n",
            "  debug: false\n",
            "  cell_types: K562,GM12878\n",
            "diffusion:\n",
            "  _target_: src.dnadiffusion.models.diffusion.Diffusion\n",
            "  timesteps: 50\n",
            "  beta_start: 0.0001\n",
            "  beta_end: 0.2\n",
            "sampling:\n",
            "  checkpoint_path: ssenan/DNA-Diffusion\n",
            "  sample_batch_size: 1\n",
            "  number_of_samples: 1\n",
            "  guidance_scale: 1.0\n",
            "\n",
            "Matched 'K562' to 'K562_ENCLB843GMH'\n",
            "Matched 'GM12878' to 'GM12878_ENCLB441ZZZ'\n",
            "Model sent to cuda\n",
            "Found cell types: ['K562_ENCLB843GMH', 'GM12878_ENCLB441ZZZ']\n",
            "Generating 1 samples for cell K562_ENCLB843GMH\n",
            "100% 1/1 [00:02<00:00,  2.32s/it]\n",
            "Generating 1 samples for cell GM12878_ENCLB441ZZZ\n",
            "100% 1/1 [00:01<00:00,  1.87s/it]\n",
            "Displaying sequences from: data/outputs\n",
            "\n",
            "--- Cell Type: GM12878 (GM12878_ENCLB441ZZZ.txt) ---\n",
            "TGCTCTCTGCATGTGGGTAATTTGTTAAACTAATGCTCAACACTCACTATCTATGCAACTGCATGTATTGCGGTAGAACAGTTTCTGTGTTCACAAAAGCAGGAACTTGGCTTCTGTTGGCAGTACCCTGGGTGACTGAGGATGTGGGGGGTATTGTATGCTGTCATGCTGAAACCCACAGAAGACTCTGAGAAGGCCAG\n",
            "-------------------------\n",
            "\n",
            "--- Cell Type: K562 (K562_ENCLB843GMH.txt) ---\n",
            "TTCTGTCTTATCTTGGAGCCTGATATGTTTCTGGCTGCTCAAGATAATCCCTTGTCATTCTTTATCAGGTTGAACTGATACATGACACAGGCACTGTTCCACACCTTCATGTTTTAGGAGATAAAGGACAAGACGGGTCATGCGTTCCTGTTAACATGCCTGTTCTGCTGTATTTGTTCTAGAAAAACAAGATTCTTGAA\n",
            "----------------------\n",
            "\n"
          ]
        }
      ],
      "source": [
        "!uv run sample_hf.py 'data.cell_types=\"K562,GM12878\"' sampling.number_of_samples=1 sampling.sample_batch_size=1\n",
        "display_sequences()"
      ]
    },
    {
      "cell_type": "markdown",
      "metadata": {
        "id": "EtRo3GRKq1Ez"
      },
      "source": [
        "Generating both K562 and GM12878 sequences using a list CLI override"
      ]
    },
    {
      "cell_type": "code",
      "execution_count": 10,
      "metadata": {
        "colab": {
          "base_uri": "https://localhost:8080/"
        },
        "id": "nFeavUEhq0pK",
        "outputId": "34ba307f-b16f-43ed-8127-90ddf80be507"
      },
      "outputs": [
        {
          "name": "stdout",
          "output_type": "stream",
          "text": [
            "model:\n",
            "  _target_: src.dnadiffusion.models.pretrained_unet.PretrainedUNet.from_pretrained\n",
            "  pretrained_model_name_or_path: ssenan/DNA-Diffusion\n",
            "data:\n",
            "  _target_: src.dnadiffusion.data.dataloader.get_dataset_for_sampling\n",
            "  data_path: data/K562_hESCT0_HepG2_GM12878_12k_sequences_per_group.txt\n",
            "  saved_data_path: data/encode_data.pkl\n",
            "  load_saved_data: true\n",
            "  debug: false\n",
            "  cell_types:\n",
            "  - K562\n",
            "  - GM12878\n",
            "diffusion:\n",
            "  _target_: src.dnadiffusion.models.diffusion.Diffusion\n",
            "  timesteps: 50\n",
            "  beta_start: 0.0001\n",
            "  beta_end: 0.2\n",
            "sampling:\n",
            "  checkpoint_path: ssenan/DNA-Diffusion\n",
            "  sample_batch_size: 1\n",
            "  number_of_samples: 1\n",
            "  guidance_scale: 1.0\n",
            "\n",
            "Matched 'K562' to 'K562_ENCLB843GMH'\n",
            "Matched 'GM12878' to 'GM12878_ENCLB441ZZZ'\n",
            "Model sent to cuda\n",
            "Found cell types: ['K562_ENCLB843GMH', 'GM12878_ENCLB441ZZZ']\n",
            "Generating 1 samples for cell K562_ENCLB843GMH\n",
            "100% 1/1 [00:02<00:00,  2.34s/it]\n",
            "Generating 1 samples for cell GM12878_ENCLB441ZZZ\n",
            "100% 1/1 [00:01<00:00,  1.87s/it]\n",
            "Displaying sequences from: data/outputs\n",
            "\n",
            "--- Cell Type: GM12878 (GM12878_ENCLB441ZZZ.txt) ---\n",
            "CTGCAGAGCGGGAGTGCCGGATGCCTGCACCTAATTAACACGACCGGCACATCTTTCGCGGGAAATCCCCTGAAGTGCTGAGGTGGCAACCGAGAACAGGTCAGGCGAGCAGCCAGGAGGGCCGGTTGCACTCTGCCCCTGCCAGTGAGGCTGCCCTACAGCATGACCAGCCAGGCTGGGAAGCTGATAGAAGTGCTGGG\n",
            "-------------------------\n",
            "\n",
            "--- Cell Type: K562 (K562_ENCLB843GMH.txt) ---\n",
            "TACACCCAGACAAGCTCTCTATCCCTCACCTTTTCTCTTGCTGTGATGTTATCAGAGCCTCACAGCTTGTCAGAGCGAGAGAGCTCCCATATGGCTTGAAGACTGGGACGGATGCAGGAGTCCAGGGTGAGGTCAGCTGTGTACCAGTGATAAAGACACATTTTCCAGAAGGGCAGTGCAGTCTTGAACTGTGACAAAGC\n",
            "----------------------\n",
            "\n"
          ]
        }
      ],
      "source": [
        "!uv run sample_hf.py 'data.cell_types=[K562,GM12878]' sampling.number_of_samples=1 sampling.sample_batch_size=1\n",
        "display_sequences()"
      ]
    }
  ],
  "metadata": {
    "accelerator": "GPU",
    "colab": {
      "gpuType": "T4",
      "provenance": []
    },
    "kernelspec": {
      "display_name": "Python 3",
      "name": "python3"
    },
    "language_info": {
      "name": "python"
    }
  },
  "nbformat": 4,
  "nbformat_minor": 0
}
