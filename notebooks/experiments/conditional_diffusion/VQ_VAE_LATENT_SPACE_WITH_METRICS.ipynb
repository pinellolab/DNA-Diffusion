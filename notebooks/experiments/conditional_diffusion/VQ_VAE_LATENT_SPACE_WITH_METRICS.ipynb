{
 "cells": [
  {
   "cell_type": "markdown",
   "metadata": {
    "colab_type": "text",
    "id": "view-in-github"
   },
   "source": [
    "<a href=\"https://colab.research.google.com/github/pinellolab/DNA-Diffusion/blob/update-vqvae/notebooks/experiments/conditional_diffusion/VQ_VAE_LATENT_SPACE_WITH_METRICS.ipynb\" target=\"_parent\"><img src=\"https://colab.research.google.com/assets/colab-badge.svg\" alt=\"Open In Colab\"/></a>"
   ]
  },
  {
   "cell_type": "markdown",
   "metadata": {
    "id": "CBca78a5WRED"
   },
   "source": [
    "Changes to the notebook:\n",
    "\n",
    "1. Additional metrics to validate the approach: [NOTE: some of these metrics can be repurposed for the UNET (stable diffusion part)]\n",
    "\n",
    "       a) **METRIC 1**, Recovery, defined as the percentage of fully (meaning not just parts of the sequence for)  predicted/recovered motifs from the validation set [Similiar metric is used in molecular generation as well]\n",
    "       b) **METRIC 2** Partial recovery, defined as the percentage of the motifs where we predicted atleast RECOVERY_THRESHOLD correctly, independent wether the whole sequence was predicted correctly. This RECOVER_THRESHOLD is a variable, so if we set it 50% then we count the percentage of motifs where we recovered atleast 50% of the nucleotides of that sequence.\n",
    "       b) **METRIC 3** Accuracy, defined as the percentage of nucleotides that we predicted correctly, independent wether the whole sequence was predicted correctly.\n",
    "       c) **METRIC 4**, Seperation of the latent space using low dimensional visuals, UMAP. If we can see clear seperation in lower dimensional space, that means that latent variables are not bad.\n",
    "       d) **METRIC 5** Seperation of the latent space using low dimensional visuals, non-linear projection t-SNE. If we can see clear seperation in lower dimensional space, that means that latent variables are not bad. \n",
    "       e) **METRIC 6**, Comparing different lengths of motifs (7-9-11) to a Jaspar vertrabrates DB using gimme scan.\n",
    "       f) [weak metric/proxys] **METRIC 7**, observing the composite loss and perplexity during training. Perplexity should go up and composite lose should go down. \n",
    "       \n",
    "**Perplexity**: In the context of a VQ-VAE (Vector Quantized Variational Autoencoder), perplexity is a measure of how well the model can reconstruct a given input. It is defined as the exponentiated average log-probability of the input, where the log-probability is computed using the model's decoder.\n",
    "\n",
    "Perplexity can be thought of as a measure of how \"surprised\" the model is by the input. A low perplexity indicates that the model is able to reconstruct the input well and is not surprised by it, whereas a high perplexity indicates that the model is unable to reconstruct the input well and is surprised by it.\n",
    "\n",
    "***NOTE : For all 7 Metrics (except recovery, there we rebuild little 100% of motifs, which is a good thing, we dont want to overfit) we observe favorable trends, where we can infer that the learning happens and we are finding a desired representation!***  \n",
    "   \n",
    "2. Split the test set into 3 distinct chromosomes, with expectation that different chromosomes will have different latent space. The same analysis should be repeated for different cell types.\n",
    "3. Complete pre-refactoring of the code, cleaning and writing doc strings. This is ready to be copied and merged into codebase.\n",
    "4. Adjusted the architecture for the VQ-VAE from https://github.com/zalandoresearch/pytorch-vq-vae\n",
    "5. Added theoretical explanations and motivations of different parts of the code.\n",
    "6. Reconcile different things between baseline stable diffusion nb and this one (similiar functions, variable naming, descriptions etc) such that refactoring is easier."
   ]
  },
  {
   "cell_type": "markdown",
   "metadata": {
    "id": "F3ahQpl0WREH"
   },
   "source": [
    "This notebook is divided in following chapters:\n",
    "\n",
    "1. Utility functions\n",
    "2. Data import and preperation\n",
    "3. VQ-VAE architecture\n",
    "4. VQ-VAE training metric functions and evaluation"
   ]
  },
  {
   "cell_type": "code",
   "execution_count": 1,
   "metadata": {
    "id": "8tcC3Z5NPT5M"
   },
   "outputs": [],
   "source": [
    "%%capture\n",
    "!pip install einops umap-learn torchmetrics livelossplot\n",
    "!pip install gimmemotifs    #can take around 10 minutes\n",
    "!genomepy install hg38"
   ]
  },
  {
   "cell_type": "code",
   "execution_count": 2,
   "metadata": {
    "colab": {
     "base_uri": "https://localhost:8080/"
    },
    "id": "0QbiSMtXulrW",
    "outputId": "5bac1c71-6e68-4ffa-dbf8-9b7d477007f1"
   },
   "outputs": [
    {
     "name": "stdout",
     "output_type": "stream",
     "text": [
      "Populating the interactive namespace from numpy and matplotlib\n"
     ]
    },
    {
     "name": "stderr",
     "output_type": "stream",
     "text": [
      "/usr/local/lib/python3.8/dist-packages/IPython/core/magics/pylab.py:159: UserWarning: pylab import has clobbered these variables: ['pylab']\n",
      "`%matplotlib` prevents importing * from pylab and numpy\n",
      "  warn(\"pylab import has clobbered these variables: %s\"  % clobbered +\n"
     ]
    }
   ],
   "source": [
    "from IPython.core.debugger import set_trace\n",
    "from matplotlib import pyplot as plt\n",
    "import pylab\n",
    "from mpl_toolkits.mplot3d import Axes3D\n",
    "from mpl_toolkits.mplot3d import proj3d\n",
    "\n",
    "%matplotlib inline\n",
    "%pylab inline\n",
    "import torch\n",
    "import copy\n",
    "import random\n",
    "from torch.utils.data import DataLoader, Dataset\n",
    "import torchvision.transforms as T\n",
    "import torch\n",
    "from IPython.display import display\n",
    "import torch.nn as nn\n",
    "from sklearn.manifold import TSNE\n",
    "import os\n",
    "\n",
    "os.getpid()\n",
    "import pandas as pd\n",
    "import numpy as np\n",
    "import umap.umap_ as umap\n",
    "import torch\n",
    "import torch.nn as nn\n",
    "import torch.nn.functional as F\n",
    "from torch.utils.data import Dataset, DataLoader\n",
    "import torch.optim as optim\n",
    "import seaborn as sns\n",
    "\n",
    "from typing import Optional, Tuple"
   ]
  },
  {
   "cell_type": "code",
   "execution_count": 3,
   "metadata": {
    "id": "SmXhsgMMWREJ"
   },
   "outputs": [],
   "source": [
    "GLOBAL_SEED = 42\n",
    "# Global seed\n",
    "\n",
    "BATCH_SIZE = 128\n",
    "# Batch size\n",
    "\n",
    "RECOVERY_THRESHOLD = 100\n",
    "# number of nucleotides we need to recover to classify a motif as correctly recovered\n",
    "\n",
    "num_training_updates = 15000\n",
    "# The number of training updates to perform on the model\n",
    "\n",
    "N_EPOCHS = 200\n",
    "# The number of epochs to train the model for\n",
    "\n",
    "num_hiddens = 128\n",
    "# The number of hidden units in the model's hidden layers\n",
    "\n",
    "num_residual_hiddens = 32\n",
    "# The number of hidden units in the model's residual hidden layers\n",
    "\n",
    "num_residual_layers = 2\n",
    "# The number of residual layers in the model\n",
    "\n",
    "embedding_dim = 64\n",
    "# The dimensionality of the model's embeddings\n",
    "\n",
    "num_embeddings = 512\n",
    "# The number of embeddings in the model\n",
    "\n",
    "commitment_cost = 0.25\n",
    "# The commitment cost of the model, controlling the amount of information preserved in the latent space\n",
    "\n",
    "decay = 0.99\n",
    "# The decay rate of the model's moving average\n",
    "\n",
    "learning_rate = 1e-3\n",
    "# the learning rate of the net\n",
    "\n",
    "NUCLEOTIDES = {\"A\": 0, \"T\": 1, \"G\": 2, \"C\": 3}\n",
    "# Lookup for the nucleotides\n",
    "\n",
    "NUCLEOTIDES_REVERSED = {0: \"A\", 1: \"T\", 2: \"G\", 3: \"C\"}\n",
    "# Reversed lookup dict is needed when reversing the one-hot encoding for the metric 6"
   ]
  },
  {
   "cell_type": "markdown",
   "metadata": {
    "id": "nYl_ZspOrWeR"
   },
   "source": [
    "# Utility functions"
   ]
  },
  {
   "cell_type": "code",
   "execution_count": 4,
   "metadata": {
    "id": "RinDsUvHWREK"
   },
   "outputs": [],
   "source": [
    "def seed_everything(seed=GLOBAL_SEED) -> None:\n",
    "    \"\"\"\n",
    "    Seed everything.\n",
    "    \"\"\"\n",
    "    random.seed(seed)\n",
    "    os.environ[\"PYTHONHASHSEED\"] = str(seed)\n",
    "    np.random.seed(seed)\n",
    "    torch.manual_seed(seed)\n",
    "    torch.cuda.manual_seed(seed)\n",
    "    torch.cuda.manual_seed_all(seed)\n",
    "    torch.backends.cudnn.deterministic = True\n",
    "\n",
    "\n",
    "seed_everything()"
   ]
  },
  {
   "cell_type": "code",
   "execution_count": 5,
   "metadata": {
    "id": "wpRdF7t6WOwZ"
   },
   "outputs": [],
   "source": [
    "def one_hot_encode_sequences(seq: str, include_n: Optional[bool] = False) -> torch.Tensor:\n",
    "    \"\"\"\n",
    "    Converts a sequence of nucleotides to a one-hot encoded tensor.\n",
    "\n",
    "    Args:\n",
    "        seq (str): The sequence of nucleotides to encode.\n",
    "        include_n (bool, optional): Whether to include 'N' nucleotides in the encoding.\n",
    "\n",
    "    Returns:\n",
    "        torch.Tensor: The one-hot encoded tensor, with shape (sequence_length, 4).\n",
    "    \"\"\"\n",
    "    num_seq = []\n",
    "    for nucleotide in seq:\n",
    "        num_seq.append(NUCLEOTIDES[nucleotide])\n",
    "    return (F.one_hot(torch.tensor(num_seq).to(torch.int64), num_classes=len(NUCLEOTIDES))).T\n",
    "\n",
    "\n",
    "class PeaksDataset(Dataset):\n",
    "    \"\"\"\n",
    "    PeaksDataset is a PyTorch dataset for representing sequences of nucleotides. It takes a DataFrame\n",
    "    as input, one-hot encodes the raw sequences, and accumulates them into a list of tensors.\n",
    "\n",
    "    Args:\n",
    "        df (pandas.DataFrame): The DataFrame containing the raw sequences.\n",
    "\n",
    "    Inputs:\n",
    "        - idx (int): The index of the sequence to return.\n",
    "\n",
    "    Outputs:\n",
    "        - x (torch.Tensor): The one-hot encoded sequence, with shape (1, sequence_length, 4).\n",
    "        - y (int): The target label, which is always set to 1 in this dataset.\n",
    "    \"\"\"\n",
    "\n",
    "    def __init__(self, df: pd.DataFrame):\n",
    "        self.sequences = []\n",
    "        for curr_seq in df[\"raw_sequence\"].tolist():\n",
    "            if len(curr_seq) != 200:\n",
    "                mid_index = len(curr_seq) // 2\n",
    "                curr_seq = curr_seq[mid_index - 100 : mid_index + 100]\n",
    "            one_hot_representation = one_hot_encode_sequences(curr_seq)\n",
    "            if one_hot_representation is not None:\n",
    "                one_hot_representation = one_hot_representation[None, :, :]\n",
    "                self.sequences.append(one_hot_representation)\n",
    "\n",
    "    def __len__(self) -> int:\n",
    "        return len(self.sequences)\n",
    "\n",
    "    def __getitem__(self, idx) -> Tuple[torch.Tensor, int]:\n",
    "        return self.sequences[idx], 1"
   ]
  },
  {
   "cell_type": "markdown",
   "metadata": {
    "id": "7dSGTtsZSEVT"
   },
   "source": [
    "# Data import and preperation"
   ]
  },
  {
   "cell_type": "code",
   "execution_count": 6,
   "metadata": {
    "colab": {
     "base_uri": "https://localhost:8080/"
    },
    "id": "aM0ZGauFSFVg",
    "outputId": "5a9a8491-eadb-45f5-9316-0de3b1e36476"
   },
   "outputs": [
    {
     "name": "stdout",
     "output_type": "stream",
     "text": [
      "  % Total    % Received % Xferd  Average Speed   Time    Time     Time  Current\n",
      "                                 Dload  Upload   Total   Spent    Left  Speed\n",
      "100   146    0   146    0     0    255      0 --:--:-- --:--:-- --:--:--   254\n",
      "100   340  100   340    0     0    244      0  0:00:01  0:00:01 --:--:--     0\n",
      "100   534    0   534    0     0    230      0 --:--:--  0:00:02 --:--:--   230\n",
      "100 21.3M  100 21.3M    0     0  4790k      0  0:00:04  0:00:04 --:--:-- 14.0M\n"
     ]
    }
   ],
   "source": [
    "!curl -L -o train_all_classifier_WM20220916.csv.gz \"https://www.dropbox.com/s/db6up7c0d4jwdp4/train_all_classifier_WM20220916.csv.gz?dl=2\"\n",
    "!gunzip train_all_classifier_WM20220916.csv.gz\n",
    "\n",
    "\n",
    "df = pd.read_csv('train_all_classifier_WM20220916.csv', delimiter='\\t')\n",
    "train_df = df[(df['seqname'] != 'chr3') & (df['seqname'] != 'chr15') & (df['seqname'] != 'chr7')]\n",
    "test_df = df[(df['seqname'] == 'chr3') | (df['seqname'] == 'chr15') | (df['seqname'] == 'chr7')]\n",
    "\n",
    "peaks_data = PeaksDataset(train_df)\n",
    "peaks_dl = DataLoader(peaks_data, batch_size=BATCH_SIZE, shuffle=True)"
   ]
  },
  {
   "cell_type": "code",
   "execution_count": 7,
   "metadata": {
    "id": "2H9ceUu7Sed3"
   },
   "outputs": [],
   "source": [
    "test_data = PeaksDataset(test_df)\n",
    "test_dl = DataLoader(test_data, batch_size=BATCH_SIZE)"
   ]
  },
  {
   "cell_type": "markdown",
   "metadata": {
    "id": "gX9KOZbSSgUv"
   },
   "source": [
    "# VQ-VAE architecture\n",
    "\n",
    "taken from # https://github.com/zalandoresearch/pytorch-vq-vae\n"
   ]
  },
  {
   "cell_type": "markdown",
   "metadata": {
    "id": "h3kFO47UWREM"
   },
   "source": [
    "Vector Quantised-Variational AutoEncoder (VQ-VAE), differs from VAEs in two key ways: the encoder network outputs discrete, rather than continuous, codes; and the prior is learnt rather than static. \n",
    "\n",
    "In order to learn a discrete latent representation, ideas from vector quantisation (VQ) are used. Using the VQ method allows the model to circumvent issues of \"posterior collapse\" -- where the latents are ignored when they are paired with a powerful autoregressive decoder -- typically observed in the VAE framework."
   ]
  },
  {
   "cell_type": "code",
   "execution_count": 8,
   "metadata": {
    "id": "M8x8xI62W539"
   },
   "outputs": [],
   "source": [
    "class VectorQuantizer(nn.Module):\n",
    "    \"\"\"\n",
    "    An implementation of a vector quantizer, as described in 'Neural Discrete Representation Learning'\n",
    "    (https://arxiv.org/abs/1711.00937) by van den Oord et al.\n",
    "\n",
    "    This module can be used as a layer in a neural network to quantize the activations of the previous\n",
    "    layer. During training, the quantization loss is backpropagated through this module, and the\n",
    "    quantization vectors are learned.\n",
    "\n",
    "    Args:\n",
    "        num_embeddings (int): The number of quantization vectors, i.e. the number of possible values\n",
    "            that each activation can take.\n",
    "        embedding_dim (int): The length of each quantization vector. This should match the number of\n",
    "            channels of the activations that will be quantized.\n",
    "        commitment_cost (float): The weighting factor that determines the trade-off between the\n",
    "            quantization loss and the commitment loss. Larger values means that the quantization vectors\n",
    "            will be pushed closer to their \"optimal\" values, but at the expense of a higher quantization\n",
    "            loss.\n",
    "\n",
    "    Inputs:\n",
    "        - inputs (torch.Tensor): The activations to be quantized, with shape (batch_size, channels,\n",
    "            height, width).\n",
    "\n",
    "    Outputs:\n",
    "        - loss (torch.Tensor): The quantization loss, a scalar value.\n",
    "        - quantized (torch.Tensor): The quantized activations, with the same shape as the inputs.\n",
    "        - perplexity (torch.Tensor): The perplexity of the encodings, a scalar value.\n",
    "        - encodings (torch.Tensor): The encodings for the inputs, with shape (batch_size,\n",
    "            num_embeddings).\n",
    "        - encoding_indices (torch.Tensor): The indices of the encodings in the quantization vector\n",
    "            space, with shape (batch_size, 1).\n",
    "    \"\"\"\n",
    "\n",
    "    def __init__(self, num_embeddings: int, embedding_dim: int, commitment_cost: float) -> None:\n",
    "        super(VectorQuantizer, self).__init__()\n",
    "\n",
    "        self._embedding_dim = embedding_dim\n",
    "        self._num_embeddings = num_embeddings\n",
    "\n",
    "        self._embedding = nn.Embedding(self._num_embeddings, self._embedding_dim)\n",
    "        self._embedding.weight.data.uniform_(-1 / self._num_embeddings, 1 / self._num_embeddings)\n",
    "        self._commitment_cost = commitment_cost\n",
    "\n",
    "    def forward(self, inputs: torch.Tensor) -> Tuple[torch.Tensor]:\n",
    "        # convert inputs from BCHW -> BHWC\n",
    "        inputs = inputs.permute(0, 2, 3, 1).contiguous()\n",
    "        input_shape = inputs.shape\n",
    "\n",
    "        # Flatten input\n",
    "        flat_input = inputs.view(-1, self._embedding_dim)\n",
    "\n",
    "        # Calculate distances\n",
    "        distances = (\n",
    "            torch.sum(flat_input**2, dim=1, keepdim=True)\n",
    "            + torch.sum(self._embedding.weight**2, dim=1)\n",
    "            - 2 * torch.matmul(flat_input, self._embedding.weight.t())\n",
    "        )\n",
    "\n",
    "        # Encoding\n",
    "        encoding_indices = torch.argmin(distances, dim=1).unsqueeze(1)\n",
    "        encodings = torch.zeros(encoding_indices.shape[0], self._num_embeddings, device=inputs.device)\n",
    "        encodings.scatter_(1, encoding_indices, 1)\n",
    "\n",
    "        # Quantize and unflatten\n",
    "        quantized = torch.matmul(encodings, self._embedding.weight).view(input_shape)\n",
    "\n",
    "        # Loss\n",
    "        e_latent_loss = F.mse_loss(quantized.detach(), inputs)\n",
    "        q_latent_loss = F.mse_loss(quantized, inputs.detach())\n",
    "        loss = q_latent_loss + self._commitment_cost * e_latent_loss\n",
    "\n",
    "        quantized = inputs + (quantized - inputs).detach()\n",
    "        avg_probs = torch.mean(encodings, dim=0)\n",
    "        perplexity = torch.exp(-torch.sum(avg_probs * torch.log(avg_probs + 1e-10)))\n",
    "\n",
    "        # convert quantized from BHWC -> BCHW\n",
    "        return (\n",
    "            loss,\n",
    "            quantized.permute(0, 3, 1, 2).contiguous(),\n",
    "            perplexity,\n",
    "            encodings,\n",
    "            encoding_indices,\n",
    "        )"
   ]
  },
  {
   "cell_type": "code",
   "execution_count": 9,
   "metadata": {
    "id": "bZjdv6CHW8LN"
   },
   "outputs": [],
   "source": [
    "class VectorQuantizerEMA(nn.Module):\n",
    "    \"\"\"\n",
    "    An implementation of a vector quantizer, with an exponential moving average (EMA) update rule\n",
    "    for the quantization vectors. This module can be used as a layer in a neural network to quantize\n",
    "    the activations of the previous layer. During training, the quantization loss is backpropagated\n",
    "    through this module, and the quantization vectors are learned using the EMA update rule.\n",
    "\n",
    "    Args:\n",
    "        num_embeddings (int): The number of quantization vectors, i.e. the number of possible values\n",
    "            that each activation can take.\n",
    "        embedding_dim (int): The length of each quantization vector. This should match the number of\n",
    "            channels of the activations that will be quantized.\n",
    "        commitment_cost (float): The weighting factor that determines the trade-off between the\n",
    "            quantization loss and the commitment loss. Larger values means that the quantization vectors\n",
    "            will be pushed closer to their \"optimal\" values, but at the expense of a higher quantization\n",
    "            loss.\n",
    "        decay (float): The decay rate for the exponential moving average.\n",
    "        epsilon (float): A small constant value added to the cluster size to avoid division by zero.\n",
    "\n",
    "    Inputs:\n",
    "        - inputs (torch.Tensor): The activations to be quantized, with shape (batch_size, channels,\n",
    "            height, width).\n",
    "\n",
    "    Outputs:\n",
    "        - loss (torch.Tensor): The quantization loss, a scalar value.\n",
    "        - quantized (torch.Tensor): The quantized activations, with the same shape as the inputs.\n",
    "        - perplexity (torch.Tensor): The perplexity of the encodings, a scalar value.\n",
    "        - encodings (torch.Tensor): The encodings for the inputs, with shape (batch_size,\n",
    "            num_embeddings).\n",
    "        - encoding_indices (torch.Tensor): The indices of the encodings in the quantization vector\n",
    "            space, with shape (batch_size, 1).\n",
    "    \"\"\"\n",
    "\n",
    "    def __init__(\n",
    "        self,\n",
    "        num_embeddings: int,\n",
    "        embedding_dim: int,\n",
    "        commitment_cost: float,\n",
    "        decay: float,\n",
    "        epsilon: float = 1e-5,\n",
    "    ):\n",
    "        super(VectorQuantizerEMA, self).__init__()\n",
    "\n",
    "        self._embedding_dim = embedding_dim\n",
    "        self._num_embeddings = num_embeddings\n",
    "\n",
    "        self._embedding = nn.Embedding(self._num_embeddings, self._embedding_dim)\n",
    "        self._embedding.weight.data.normal_()\n",
    "        self._commitment_cost = commitment_cost\n",
    "\n",
    "        self.register_buffer(\"_ema_cluster_size\", torch.zeros(num_embeddings))\n",
    "        self._ema_w = nn.Parameter(torch.Tensor(num_embeddings, self._embedding_dim))\n",
    "        self._ema_w.data.normal_()\n",
    "\n",
    "        self._decay = decay\n",
    "        self._epsilon = epsilon\n",
    "\n",
    "    def forward(self, inputs: torch.Tensor) -> Tuple[torch.Tensor]:\n",
    "        # convert inputs from BCHW -> BHWC\n",
    "        inputs = inputs.permute(0, 2, 3, 1).contiguous()\n",
    "        input_shape = inputs.shape\n",
    "\n",
    "        # Flatten input\n",
    "        flat_input = inputs.view(-1, self._embedding_dim)\n",
    "\n",
    "        # Calculate distances\n",
    "        distances = (\n",
    "            torch.sum(flat_input**2, dim=1, keepdim=True)\n",
    "            + torch.sum(self._embedding.weight**2, dim=1)\n",
    "            - 2 * torch.matmul(flat_input, self._embedding.weight.t())\n",
    "        )\n",
    "\n",
    "        # Encoding\n",
    "        encoding_indices = torch.argmin(distances, dim=1).unsqueeze(1)\n",
    "        encodings = torch.zeros(encoding_indices.shape[0], self._num_embeddings, device=inputs.device)\n",
    "        encodings.scatter_(1, encoding_indices, 1)\n",
    "\n",
    "        # Quantize and unflatten\n",
    "        quantized = torch.matmul(encodings, self._embedding.weight).view(input_shape)\n",
    "\n",
    "        # Use EMA to update the embedding vectors\n",
    "        if self.training:\n",
    "            self._ema_cluster_size = self._ema_cluster_size * self._decay + (1 - self._decay) * torch.sum(encodings, 0)\n",
    "\n",
    "            # Laplace smoothing of the cluster size\n",
    "            n = torch.sum(self._ema_cluster_size.data)\n",
    "            self._ema_cluster_size = (\n",
    "                (self._ema_cluster_size + self._epsilon) / (n + self._num_embeddings * self._epsilon) * n\n",
    "            )\n",
    "\n",
    "            dw = torch.matmul(encodings.t(), flat_input)\n",
    "            self._ema_w = nn.Parameter(self._ema_w * self._decay + (1 - self._decay) * dw)\n",
    "\n",
    "            self._embedding.weight = nn.Parameter(self._ema_w / self._ema_cluster_size.unsqueeze(1))\n",
    "\n",
    "        # Loss\n",
    "        e_latent_loss = F.mse_loss(quantized.detach(), inputs)\n",
    "        loss = self._commitment_cost * e_latent_loss\n",
    "\n",
    "        # Straight Through Estimator\n",
    "        quantized = inputs + (quantized - inputs).detach()\n",
    "        avg_probs = torch.mean(encodings, dim=0)\n",
    "        perplexity = torch.exp(-torch.sum(avg_probs * torch.log(avg_probs + 1e-10)))\n",
    "\n",
    "        # convert quantized from BHWC -> BCHW\n",
    "        return (\n",
    "            loss,\n",
    "            quantized.permute(0, 3, 1, 2).contiguous(),\n",
    "            perplexity,\n",
    "            encodings,\n",
    "            encoding_indices,\n",
    "        )"
   ]
  },
  {
   "cell_type": "code",
   "execution_count": 10,
   "metadata": {
    "id": "4fT8YNJaW9jj"
   },
   "outputs": [],
   "source": [
    "class Residual(nn.Module):\n",
    "    \"\"\"\n",
    "    A residual block, as described in the paper 'Deep Residual Learning for Image Recognition'\n",
    "    (https://arxiv.org/abs/1512.03385) by He et al. This block consists of two convolutional layers\n",
    "    with ReLU activation, followed by a residual connection that adds the input to the output of the\n",
    "    block.\n",
    "\n",
    "    Args:\n",
    "        in_channels (int): The number of channels in the input.\n",
    "        num_hiddens (int): The number of channels in the output.\n",
    "        num_residual_hiddens (int): The number of channels in the intermediate outputs of the block.\n",
    "\n",
    "    Inputs:\n",
    "        - x (torch.Tensor): The input tensor with shape (batch_size, in_channels, height, width).\n",
    "\n",
    "    Outputs:\n",
    "        - y (torch.Tensor): The output tensor with shape (batch_size, num_hiddens, height, width).\n",
    "    \"\"\"\n",
    "\n",
    "    def __init__(self, in_channels: int, num_hiddens: int, num_residual_hiddens: int) -> None:\n",
    "        super(Residual, self).__init__()\n",
    "        self._block = nn.Sequential(\n",
    "            nn.ReLU(True),\n",
    "            nn.Conv2d(\n",
    "                in_channels=in_channels,\n",
    "                out_channels=num_residual_hiddens,\n",
    "                kernel_size=3,\n",
    "                stride=1,\n",
    "                padding=1,\n",
    "                bias=False,\n",
    "            ),\n",
    "            nn.ReLU(True),\n",
    "            nn.Conv2d(\n",
    "                in_channels=num_residual_hiddens,\n",
    "                out_channels=num_hiddens,\n",
    "                kernel_size=1,\n",
    "                stride=1,\n",
    "                bias=False,\n",
    "            ),\n",
    "        )\n",
    "\n",
    "    def forward(self, x: torch.Tensor) -> torch.Tensor:\n",
    "        return x + self._block(x)\n",
    "\n",
    "\n",
    "class ResidualStack(nn.Module):\n",
    "    \"\"\"\n",
    "    A stack of residual blocks, as described in the paper 'Deep Residual Learning for Image\n",
    "    Recognition' (https://arxiv.org/abs/1512.03385) by He et al. This stack consists of a specified\n",
    "    number of residual blocks, each with the same number of channels in the input and output, and the\n",
    "    same number of channels in the intermediate outputs.\n",
    "\n",
    "    Args:\n",
    "        in_channels (int): The number of channels in the input to the stack.\n",
    "        num_hiddens (int): The number of channels in the output from the stack.\n",
    "        num_residual_layers (int): The number of residual blocks in the stack.\n",
    "        num_residual_hiddens (int): The number of channels in the intermediate outputs of each block.\n",
    "\n",
    "    Inputs:\n",
    "        - x (torch.Tensor): The input tensor with shape (batch_size, in_channels, height, width).\n",
    "\n",
    "    Outputs:\n",
    "        - y (torch.Tensor): The output tensor with shape (batch_size, num_hiddens, height, width).\n",
    "    \"\"\"\n",
    "\n",
    "    def __init__(\n",
    "        self,\n",
    "        in_channels: int,\n",
    "        num_hiddens: int,\n",
    "        num_residual_layers: int,\n",
    "        num_residual_hiddens: int,\n",
    "    ) -> None:\n",
    "        super(ResidualStack, self).__init__()\n",
    "        self._num_residual_layers = num_residual_layers\n",
    "        self._layers = nn.ModuleList(\n",
    "            [Residual(in_channels, num_hiddens, num_residual_hiddens) for _ in range(self._num_residual_layers)]\n",
    "        )\n",
    "\n",
    "    def forward(self, x: torch.Tensor) -> torch.Tensor:\n",
    "        for i in range(self._num_residual_layers):\n",
    "            x = self._layers[i](x)\n",
    "        return F.relu(x)"
   ]
  },
  {
   "cell_type": "code",
   "execution_count": 11,
   "metadata": {
    "id": "eCL5uXjdW-4A"
   },
   "outputs": [],
   "source": [
    "class Encoder(nn.Module):\n",
    "    def __init__(\n",
    "        self,\n",
    "        in_channels: int,\n",
    "        num_hiddens: int,\n",
    "        num_residual_layers: int,\n",
    "        num_residual_hiddens: int,\n",
    "    ) -> None:\n",
    "        super(Encoder, self).__init__()\n",
    "\n",
    "        self._conv_1 = nn.Conv2d(\n",
    "            in_channels=in_channels,\n",
    "            out_channels=num_hiddens // 2,\n",
    "            kernel_size=(4, 10),\n",
    "            stride=2,\n",
    "            padding=(1, 4),\n",
    "        )\n",
    "        self._conv_2 = nn.Conv2d(\n",
    "            in_channels=num_hiddens // 2,\n",
    "            out_channels=num_hiddens,\n",
    "            kernel_size=4,\n",
    "            stride=2,\n",
    "            padding=1,\n",
    "        )\n",
    "        self._conv_3 = nn.Conv2d(\n",
    "            in_channels=num_hiddens,\n",
    "            out_channels=num_hiddens,\n",
    "            kernel_size=3,\n",
    "            stride=1,\n",
    "            padding=1,\n",
    "        )\n",
    "        self._residual_stack = ResidualStack(\n",
    "            in_channels=num_hiddens,\n",
    "            num_hiddens=num_hiddens,\n",
    "            num_residual_layers=num_residual_layers,\n",
    "            num_residual_hiddens=num_residual_hiddens,\n",
    "        )\n",
    "\n",
    "    def forward(self, inputs: torch.Tensor) -> torch.Tensor:\n",
    "        x = self._conv_1(inputs)\n",
    "        x = F.relu(x)\n",
    "        x = self._conv_2(x)\n",
    "        x = F.relu(x)\n",
    "\n",
    "        x = self._conv_3(x)\n",
    "        return self._residual_stack(x)"
   ]
  },
  {
   "cell_type": "code",
   "execution_count": 12,
   "metadata": {
    "id": "A4NGCBnMXAR0"
   },
   "outputs": [],
   "source": [
    "class Decoder(nn.Module):\n",
    "    \"\"\"\n",
    "    Decoder is a PyTorch module that takes the quantized latent representations and decodes them\n",
    "    into the original input space. It consists of a sequence of convolutional and deconvolutional layers\n",
    "    followed by a residual stack.\n",
    "\n",
    "    Args:\n",
    "        in_channels (int): The number of channels in the input tensor.\n",
    "        num_hiddens (int): The number of channels in the hidden layers of the decoder.\n",
    "        num_residual_layers (int): The number of residual layers in the decoder.\n",
    "        num_residual_hiddens (int): The number of channels in the intermediate outputs of the residual\n",
    "            blocks in the decoder.\n",
    "\n",
    "    Inputs:\n",
    "        - inputs (torch.Tensor): The input tensor with shape (B, in_channels, H, W), where B is the\n",
    "            batch size, in_channels is the number of channels in the input, and H and W are the height\n",
    "            and width of the tensor.\n",
    "\n",
    "    Outputs:\n",
    "        - x (torch.Tensor): The output tensor with shape (B, 1, H', W'), where H' and W' are the height\n",
    "            and width of the decoded tensor, respectively.\n",
    "    \"\"\"\n",
    "\n",
    "    def __init__(\n",
    "        self,\n",
    "        in_channels: int,\n",
    "        num_hiddens: int,\n",
    "        num_residual_layers: int,\n",
    "        num_residual_hiddens: int,\n",
    "    ) -> None:\n",
    "        super(Decoder, self).__init__()\n",
    "\n",
    "        self._conv_1 = nn.Conv2d(\n",
    "            in_channels=in_channels,\n",
    "            out_channels=num_hiddens,\n",
    "            kernel_size=3,\n",
    "            stride=1,\n",
    "            padding=1,\n",
    "        )\n",
    "\n",
    "        self._residual_stack = ResidualStack(\n",
    "            in_channels=num_hiddens,\n",
    "            num_hiddens=num_hiddens,\n",
    "            num_residual_layers=num_residual_layers,\n",
    "            num_residual_hiddens=num_residual_hiddens,\n",
    "        )\n",
    "\n",
    "        self._conv_trans_1 = nn.ConvTranspose2d(\n",
    "            in_channels=num_hiddens,\n",
    "            out_channels=num_hiddens // 2,\n",
    "            kernel_size=4,\n",
    "            stride=2,\n",
    "            padding=1,\n",
    "        )\n",
    "\n",
    "        self._conv_trans_2 = nn.ConvTranspose2d(\n",
    "            in_channels=num_hiddens // 2,\n",
    "            out_channels=1,\n",
    "            kernel_size=(2, 12),\n",
    "            stride=2,\n",
    "            padding=(0, 5),\n",
    "        )\n",
    "\n",
    "    def forward(self, inputs: torch.Tensor) -> torch.Tensor:\n",
    "        x = self._conv_1(inputs)\n",
    "\n",
    "        x = self._residual_stack(x)\n",
    "\n",
    "        x = self._conv_trans_1(x)\n",
    "        x = F.relu(x)\n",
    "\n",
    "        return self._conv_trans_2(x)"
   ]
  },
  {
   "cell_type": "code",
   "execution_count": 13,
   "metadata": {
    "id": "aLmbEXplXhmU"
   },
   "outputs": [],
   "source": [
    "class Model(nn.Module):\n",
    "    \"\"\"\n",
    "    Model is a PyTorch module for the VQ-VAE model described in the paper 'Neural Discrete\n",
    "    Representation Learning' (https://arxiv.org/abs/1711.00937) by van den Oord et al. It consists of\n",
    "    an encoder, a vector quantization module, and a decoder. The vector quantization module can be\n",
    "    either a VectorQuantizer or a VectorQuantizerEMA, depending on the value of the decay argument.\n",
    "\n",
    "    Args:\n",
    "        num_hiddens (int): The number of channels in the hidden layers of the encoder and decoder.\n",
    "        num_residual_layers (int): The number of residual layers in the encoder and decoder.\n",
    "        num_residual_hiddens (int): The number of channels in the intermediate outputs of the residual\n",
    "            blocks in the encoder and decoder.\n",
    "        num_embeddings (int): The number of embeddings in the vector quantization module.\n",
    "        embedding_dim (int): The dimension of the embedding vectors in the vector quantization module.\n",
    "        commitment_cost (float): The commitment cost, which controls the balance between reconstruction\n",
    "            loss and the commitment to the learned codebook.\n",
    "        decay (float, optional): The decay rate of the moving average used in the vector quantization\n",
    "            module. If 0, then the vector quantization module is not EMA-enabled.\n",
    "\n",
    "    Inputs:\n",
    "        - x (torch.Tensor): The input tensor\n",
    "    \"\"\"\n",
    "\n",
    "    def __init__(\n",
    "        self,\n",
    "        num_hiddens: int,\n",
    "        num_residual_layers: int,\n",
    "        num_residual_hiddens: int,\n",
    "        num_embeddings: int,\n",
    "        embedding_dim: int,\n",
    "        commitment_cost: float,\n",
    "        decay: Optional[float] = 0,\n",
    "    ) -> None:\n",
    "        super(Model, self).__init__()\n",
    "\n",
    "        self._encoder = Encoder(1, num_hiddens, num_residual_layers, num_residual_hiddens)\n",
    "        self._pre_vq_conv = nn.Conv2d(in_channels=num_hiddens, out_channels=embedding_dim, kernel_size=1, stride=1)\n",
    "        if decay > 0.0:\n",
    "            self._vq_vae = VectorQuantizerEMA(num_embeddings, embedding_dim, commitment_cost, decay)\n",
    "        else:\n",
    "            self._vq_vae = VectorQuantizer(num_embeddings, embedding_dim, commitment_cost)\n",
    "        self._decoder = Decoder(embedding_dim, num_hiddens, num_residual_layers, num_residual_hiddens)\n",
    "\n",
    "    def forward(self, x: torch.Tensor) -> Tuple[torch.Tensor]:\n",
    "        z = self._encoder(x)\n",
    "        z = self._pre_vq_conv(z)\n",
    "        loss, quantized, perplexity, _, encoding_index = self._vq_vae(z)\n",
    "        x_recon = self._decoder(quantized)\n",
    "        return loss, x_recon, perplexity, quantized, encoding_index"
   ]
  },
  {
   "cell_type": "markdown",
   "metadata": {
    "id": "gibUcNi9SrtD"
   },
   "source": [
    "# VQ-VAE training metric functions and evaluation"
   ]
  },
  {
   "cell_type": "code",
   "execution_count": 14,
   "metadata": {
    "id": "7AKmwb59WRES"
   },
   "outputs": [],
   "source": [
    "device = \"cuda\"\n",
    "model = Model(\n",
    "    num_hiddens,\n",
    "    num_residual_layers,\n",
    "    num_residual_hiddens,\n",
    "    num_embeddings,\n",
    "    embedding_dim,\n",
    "    commitment_cost,\n",
    "    decay,\n",
    ")\n",
    "optimizer = optim.Adam(model.parameters(), lr=learning_rate)"
   ]
  },
  {
   "cell_type": "code",
   "execution_count": 15,
   "metadata": {
    "colab": {
     "base_uri": "https://localhost:8080/",
     "height": 1000
    },
    "id": "5xE1a2ewZ7A0",
    "outputId": "1831f914-55d8-4127-f7fb-e4f9b651e350"
   },
   "outputs": [
    {
     "name": "stdout",
     "output_type": "stream",
     "text": [
      "100 iterations\n",
      "loss: 0.188\n",
      "perplexity: 1.000\n",
      "\n",
      "200 iterations\n",
      "loss: 0.197\n",
      "perplexity: 1.000\n",
      "\n",
      "300 iterations\n",
      "loss: 0.198\n",
      "perplexity: 1.000\n",
      "\n",
      "400 iterations\n",
      "loss: 0.199\n",
      "perplexity: 1.000\n",
      "\n",
      "500 iterations\n",
      "loss: 0.202\n",
      "perplexity: 1.000\n",
      "\n",
      "600 iterations\n",
      "loss: 0.204\n",
      "perplexity: 1.000\n",
      "\n",
      "700 iterations\n",
      "loss: 0.205\n",
      "perplexity: 1.000\n",
      "\n",
      "800 iterations\n",
      "loss: 0.176\n",
      "perplexity: 2.015\n",
      "\n",
      "900 iterations\n",
      "loss: 0.142\n",
      "perplexity: 13.907\n",
      "\n",
      "1000 iterations\n",
      "loss: 0.112\n",
      "perplexity: 76.372\n",
      "\n",
      "100 iterations\n",
      "loss: 0.091\n",
      "perplexity: 172.928\n",
      "\n",
      "200 iterations\n",
      "loss: 0.075\n",
      "perplexity: 210.090\n",
      "\n",
      "300 iterations\n",
      "loss: 0.066\n",
      "perplexity: 218.639\n",
      "\n",
      "400 iterations\n",
      "loss: 0.059\n",
      "perplexity: 225.343\n",
      "\n",
      "500 iterations\n",
      "loss: 0.055\n",
      "perplexity: 228.754\n",
      "\n"
     ]
    },
    {
     "ename": "KeyboardInterrupt",
     "evalue": "ignored",
     "output_type": "error",
     "traceback": [
      "\u001b[0;31m---------------------------------------------------------------------------\u001b[0m",
      "\u001b[0;31mKeyboardInterrupt\u001b[0m                         Traceback (most recent call last)",
      "\u001b[0;32m<ipython-input-15-cd881ce86080>\u001b[0m in \u001b[0;36m<module>\u001b[0;34m\u001b[0m\n\u001b[1;32m     11\u001b[0m         \u001b[0mrecon_error\u001b[0m \u001b[0;34m=\u001b[0m \u001b[0mF\u001b[0m\u001b[0;34m.\u001b[0m\u001b[0mmse_loss\u001b[0m\u001b[0;34m(\u001b[0m\u001b[0mdata_recon\u001b[0m\u001b[0;34m,\u001b[0m \u001b[0mdata\u001b[0m\u001b[0;34m)\u001b[0m \u001b[0;34m/\u001b[0m \u001b[0;36m1\u001b[0m\u001b[0;34m\u001b[0m\u001b[0;34m\u001b[0m\u001b[0m\n\u001b[1;32m     12\u001b[0m         \u001b[0mloss\u001b[0m \u001b[0;34m=\u001b[0m \u001b[0mrecon_error\u001b[0m \u001b[0;34m+\u001b[0m \u001b[0mvq_loss\u001b[0m\u001b[0;34m\u001b[0m\u001b[0;34m\u001b[0m\u001b[0m\n\u001b[0;32m---> 13\u001b[0;31m         \u001b[0mloss\u001b[0m\u001b[0;34m.\u001b[0m\u001b[0mbackward\u001b[0m\u001b[0;34m(\u001b[0m\u001b[0;34m)\u001b[0m\u001b[0;34m\u001b[0m\u001b[0;34m\u001b[0m\u001b[0m\n\u001b[0m\u001b[1;32m     14\u001b[0m \u001b[0;34m\u001b[0m\u001b[0m\n\u001b[1;32m     15\u001b[0m         \u001b[0moptimizer\u001b[0m\u001b[0;34m.\u001b[0m\u001b[0mstep\u001b[0m\u001b[0;34m(\u001b[0m\u001b[0;34m)\u001b[0m\u001b[0;34m\u001b[0m\u001b[0;34m\u001b[0m\u001b[0m\n",
      "\u001b[0;32m/usr/local/lib/python3.8/dist-packages/torch/_tensor.py\u001b[0m in \u001b[0;36mbackward\u001b[0;34m(self, gradient, retain_graph, create_graph, inputs)\u001b[0m\n\u001b[1;32m    485\u001b[0m                 \u001b[0minputs\u001b[0m\u001b[0;34m=\u001b[0m\u001b[0minputs\u001b[0m\u001b[0;34m,\u001b[0m\u001b[0;34m\u001b[0m\u001b[0;34m\u001b[0m\u001b[0m\n\u001b[1;32m    486\u001b[0m             )\n\u001b[0;32m--> 487\u001b[0;31m         torch.autograd.backward(\n\u001b[0m\u001b[1;32m    488\u001b[0m             \u001b[0mself\u001b[0m\u001b[0;34m,\u001b[0m \u001b[0mgradient\u001b[0m\u001b[0;34m,\u001b[0m \u001b[0mretain_graph\u001b[0m\u001b[0;34m,\u001b[0m \u001b[0mcreate_graph\u001b[0m\u001b[0;34m,\u001b[0m \u001b[0minputs\u001b[0m\u001b[0;34m=\u001b[0m\u001b[0minputs\u001b[0m\u001b[0;34m\u001b[0m\u001b[0;34m\u001b[0m\u001b[0m\n\u001b[1;32m    489\u001b[0m         )\n",
      "\u001b[0;32m/usr/local/lib/python3.8/dist-packages/torch/autograd/__init__.py\u001b[0m in \u001b[0;36mbackward\u001b[0;34m(tensors, grad_tensors, retain_graph, create_graph, grad_variables, inputs)\u001b[0m\n\u001b[1;32m    195\u001b[0m     \u001b[0;31m# some Python versions print out the first line of a multi-line function\u001b[0m\u001b[0;34m\u001b[0m\u001b[0;34m\u001b[0m\u001b[0;34m\u001b[0m\u001b[0m\n\u001b[1;32m    196\u001b[0m     \u001b[0;31m# calls in the traceback and some print out the last line\u001b[0m\u001b[0;34m\u001b[0m\u001b[0;34m\u001b[0m\u001b[0;34m\u001b[0m\u001b[0m\n\u001b[0;32m--> 197\u001b[0;31m     Variable._execution_engine.run_backward(  # Calls into the C++ engine to run the backward pass\n\u001b[0m\u001b[1;32m    198\u001b[0m         \u001b[0mtensors\u001b[0m\u001b[0;34m,\u001b[0m \u001b[0mgrad_tensors_\u001b[0m\u001b[0;34m,\u001b[0m \u001b[0mretain_graph\u001b[0m\u001b[0;34m,\u001b[0m \u001b[0mcreate_graph\u001b[0m\u001b[0;34m,\u001b[0m \u001b[0minputs\u001b[0m\u001b[0;34m,\u001b[0m\u001b[0;34m\u001b[0m\u001b[0;34m\u001b[0m\u001b[0m\n\u001b[1;32m    199\u001b[0m         allow_unreachable=True, accumulate_grad=True)  # Calls into the C++ engine to run the backward pass\n",
      "\u001b[0;31mKeyboardInterrupt\u001b[0m: "
     ]
    }
   ],
   "source": [
    "# with adjusted kernel size to capture motifs\n",
    "train_res_recon_error = []\n",
    "train_res_perplexity = []\n",
    "\n",
    "for epoch in range(N_EPOCHS):\n",
    "    for i, (data, _) in enumerate(peaks_dl):\n",
    "        data = data.float()\n",
    "        optimizer.zero_grad()\n",
    "\n",
    "        vq_loss, data_recon, perplexity, hidden_quantized, encoding_index = model(data)\n",
    "        recon_error = F.mse_loss(data_recon, data) / 1\n",
    "        loss = recon_error + vq_loss\n",
    "        loss.backward()\n",
    "\n",
    "        optimizer.step()\n",
    "\n",
    "        train_res_recon_error.append(recon_error.item())\n",
    "        train_res_perplexity.append(perplexity.item())\n",
    "\n",
    "        if (i + 1) % 100 == 0:\n",
    "            print(\"%d iterations\" % (i + 1))\n",
    "            print(\"loss: %.3f\" % loss)\n",
    "            print(\"perplexity: %.3f\" % np.mean(train_res_perplexity[-100:]))\n",
    "            print()"
   ]
  },
  {
   "cell_type": "markdown",
   "metadata": {
    "id": "M_CzG-zvWRES"
   },
   "source": [
    "Quantitative evaluation of the latent space. Visually we can also see up until the 3rd dimension"
   ]
  },
  {
   "cell_type": "markdown",
   "metadata": {
    "id": "nlJSeiZmWRES"
   },
   "source": [
    "a) **METRIC 1**, **METRIC 2** and  **METRIC 3**(recovery, partial recover and accuracy):"
   ]
  },
  {
   "cell_type": "code",
   "execution_count": 16,
   "metadata": {
    "id": "ZQ-d_1oFW5gP"
   },
   "outputs": [],
   "source": [
    "# Initialize variables to store the number of correct predictions and the total number of predictions made by the model\n",
    "\n",
    "# this variable counts the number of nucleotides that were correct across ALL of the motifs\n",
    "num_correct_predictions = 0\n",
    "# this variable only counts if we have predicted the whole motif correctly (all of the nucleotides given)\n",
    "num_correct_predictions_full = 0\n",
    "# this variable only counts if we have predicted the  motif correctly above the threshold RECOVERY_THRESHOLD (i.e. more nucleotides then specified by the threshold)\n",
    "num_correct_predictions_partially = 0\n",
    "# this variable holds all of the nucleotides\n",
    "num_total_predictions = 0\n",
    "# this variable holds all of the full motifs predictions\n",
    "num_total_predictions_full = 0\n",
    "# this variable holds all of the (one-hot-encoded) predictions\n",
    "whole_predictions_full = []\n",
    "\n",
    "\n",
    "# Iterate over the original validation data and unused variable in the test_dl variable\n",
    "for original_valid_data, _ in test_dl:\n",
    "    # Convert the original validation data to a float tensor\n",
    "    original_valid_data = original_valid_data.float()\n",
    "\n",
    "    # Apply the encoder and pre-VQ-convolution layers of the model to the original validation data\n",
    "    vq_output = model._pre_vq_conv(model._encoder(original_valid_data))\n",
    "\n",
    "    # Apply the VQ-VAE layers of the model to the VQ output and extract the quantized data\n",
    "    _, quantized_valid_data, _, _, _ = model._vq_vae(vq_output)\n",
    "\n",
    "    # Apply the decoder of the model to the quantized data to obtain the reconstructed data\n",
    "    reconstructed_valid_data = model._decoder(quantized_valid_data)\n",
    "\n",
    "    # Extract the ground truth labels from the original validation data\n",
    "    ground_truth = torch.argmax(original_valid_data, dim=2)\n",
    "\n",
    "    # Extract the predicted labels from the reconstructed data\n",
    "    prediction = torch.argmax(reconstructed_valid_data, dim=2)\n",
    "    whole_predictions_full.append(prediction)\n",
    "\n",
    "    # Iterate over the items in the batch of data\n",
    "    for i in range(original_valid_data.shape[0]):\n",
    "        # Increment the number of correct predictions if the predicted label for this item matches the ground truth label\n",
    "        num_correct_predictions += int((prediction[i][0] == ground_truth[i][0]).sum())\n",
    "        if int((prediction[i][0] == ground_truth[i][0]).sum()) == 200:\n",
    "            num_correct_predictions_full += 1\n",
    "        elif int((prediction[i][0] == ground_truth[i][0]).sum()) > RECOVERY_THRESHOLD:\n",
    "            num_correct_predictions_partially += 1\n",
    "\n",
    "        # Increment the total number of predictions\n",
    "        num_total_predictions += 200\n",
    "        # Increment the total full number of predictions\n",
    "        num_total_predictions_full += 1"
   ]
  },
  {
   "cell_type": "markdown",
   "metadata": {
    "id": "tosqJ7RKzAU4"
   },
   "source": [
    "Accuracy:"
   ]
  },
  {
   "cell_type": "code",
   "execution_count": 17,
   "metadata": {
    "colab": {
     "base_uri": "https://localhost:8080/"
    },
    "id": "Jy8rja-hbpWg",
    "outputId": "a7a0c775-6611-44a8-c76b-a93a7f0f4454"
   },
   "outputs": [
    {
     "data": {
      "text/plain": [
       "0.9316366346250461"
      ]
     },
     "execution_count": 17,
     "metadata": {},
     "output_type": "execute_result"
    }
   ],
   "source": [
    "percentage_correct_predictions_nucleotides = num_correct_predictions / num_total_predictions\n",
    "percentage_correct_predictions_nucleotides"
   ]
  },
  {
   "cell_type": "markdown",
   "metadata": {
    "id": "HGfaZ67ZzBos"
   },
   "source": [
    "Recovery: "
   ]
  },
  {
   "cell_type": "code",
   "execution_count": 18,
   "metadata": {
    "colab": {
     "base_uri": "https://localhost:8080/"
    },
    "id": "aUb3vAauyc0R",
    "outputId": "e705bfe5-d025-4be4-b9b9-9a7ffbcd0ee9"
   },
   "outputs": [
    {
     "data": {
      "text/plain": [
       "0.0"
      ]
     },
     "execution_count": 18,
     "metadata": {},
     "output_type": "execute_result"
    }
   ],
   "source": [
    "percentage_correct_predictions_full = num_correct_predictions_full / num_total_predictions_full\n",
    "percentage_correct_predictions_full"
   ]
  },
  {
   "cell_type": "markdown",
   "metadata": {
    "id": "u1xSzk9SzBnZ"
   },
   "source": [
    "Partial recovery (the constant RECOVERY_THRESHOLD number of nucleotides we need to recover to classify a motif as correctly recovered)"
   ]
  },
  {
   "cell_type": "code",
   "execution_count": 19,
   "metadata": {
    "colab": {
     "base_uri": "https://localhost:8080/"
    },
    "id": "SYu1cBgQzNGQ",
    "outputId": "6e4bf213-7b28-4386-c361-d683cfa8e406"
   },
   "outputs": [
    {
     "data": {
      "text/plain": [
       "1.0"
      ]
     },
     "execution_count": 19,
     "metadata": {},
     "output_type": "execute_result"
    }
   ],
   "source": [
    "percentage_correct_predictions_partially = num_correct_predictions_partially / num_total_predictions_full\n",
    "percentage_correct_predictions_partially"
   ]
  },
  {
   "cell_type": "markdown",
   "metadata": {
    "id": "qSaihQDjWREU"
   },
   "source": [
    "c) **METRIC 4**, Seperation of the latent space with visuals. We know that per Cell Type there should be different distributions if learnt properly. Used three different methods here. First T-SNE visualisation, PCA to relatively rank the latent space and then plot them using UMAPs. PCA explains more then 0.96 of the variance with only 10 latent features. 0.5 of the variance is explained with 3.\n",
    "\n",
    "\n",
    "HOW TO INTERPRET THIS?\n",
    "\n",
    "If we plot in all 2 dimensions, and we see very little clusters (1 being the worst) while using the 1-2-3 most important (orthogonal and kernel projected) features, then we know that the algorithm most likely learned little"
   ]
  },
  {
   "cell_type": "code",
   "execution_count": 20,
   "metadata": {
    "id": "u776jqsAWREU"
   },
   "outputs": [],
   "source": [
    "def draw_umap(\n",
    "    n_neighbors: int = 15,\n",
    "    min_dist: float = 0.1,\n",
    "    n_components: int = 2,\n",
    "    metric: str = \"euclidean\",\n",
    "    title: str = \"\",\n",
    ") -> None:\n",
    "    \"\"\"\n",
    "    This functions depicts the seperation for 3 possible dimensions.\n",
    "    \"\"\"\n",
    "\n",
    "    fit = umap.UMAP(\n",
    "        n_neighbors=n_neighbors,\n",
    "        min_dist=min_dist,\n",
    "        n_components=n_components,\n",
    "        metric=metric,\n",
    "    )\n",
    "    u = fit.fit_transform(model._vq_vae._embedding.weight.data.cpu())\n",
    "    fig = plt.figure()\n",
    "    if n_components == 1:\n",
    "        ax = fig.add_subplot(111)\n",
    "        ax.scatter(u[:, 0], range(len(u)))\n",
    "    if n_components == 2:\n",
    "        ax = fig.add_subplot(111)\n",
    "        ax.scatter(u[:, 0], u[:, 1])\n",
    "    if n_components == 3:\n",
    "        ax = fig.add_subplot(111, projection=\"3d\")\n",
    "        ax.scatter(u[:, 0], u[:, 1], u[:, 2], s=100)\n",
    "    plt.title(title, fontsize=18)"
   ]
  },
  {
   "cell_type": "code",
   "execution_count": 21,
   "metadata": {
    "colab": {
     "base_uri": "https://localhost:8080/",
     "height": 265
    },
    "id": "ndBbNF0pWREU",
    "outputId": "2e9fd372-691c-4d05-fb75-a9c2133b03d7"
   },
   "outputs": [
    {
     "data": {
      "image/png": "[encoded data removed]",
      "text/plain": [
       "<Figure size 432x288 with 1 Axes>"
      ]
     },
     "metadata": {
      "needs_background": "light"
     },
     "output_type": "display_data"
    }
   ],
   "source": [
    "draw_umap(n_components=1)"
   ]
  },
  {
   "cell_type": "code",
   "execution_count": 22,
   "metadata": {
    "colab": {
     "base_uri": "https://localhost:8080/",
     "height": 265
    },
    "id": "aaDQeLFEWREU",
    "outputId": "66693944-dde6-485f-a759-ef00ec34f361"
   },
   "outputs": [
    {
     "data": {
      "image/png": "[encoded data removed]",
      "text/plain": [
       "<Figure size 432x288 with 1 Axes>"
      ]
     },
     "metadata": {
      "needs_background": "light"
     },
     "output_type": "display_data"
    }
   ],
   "source": [
    "draw_umap(n_components=2)"
   ]
  },
  {
   "cell_type": "markdown",
   "metadata": {
    "id": "4rYQxU5hWREU"
   },
   "source": [
    "d) **METRIC 5** Seperation of the latent space using low dimensional visuals, non-linear projection t-SNE. If we can see clear seperation in lower dimensional space, that means that latent variables are not bad. "
   ]
  },
  {
   "cell_type": "markdown",
   "metadata": {
    "id": "bWs5swoZWREV"
   },
   "source": [
    "Now we will apply t-SNE (t-Distributed Stochastic Neighbor Embedding) is nonlinear dimensionality reduction technique in which interrelated high dimensional data (usually hundreds or thousands of variables) is mapped into low-dimensional data (like 2 or 3 variables) while preserving the significant structure (relationship among the data points in different variables) of original high dimensional data.\n",
    "\n",
    "Note, we applied UMAP on the PCA projected space. For t-SNE we apply it on the raw data."
   ]
  },
  {
   "cell_type": "code",
   "execution_count": 23,
   "metadata": {
    "colab": {
     "base_uri": "https://localhost:8080/",
     "height": 483
    },
    "id": "2Q-1u-rCWREV",
    "outputId": "75d25acd-d44a-466b-b3d2-d8f4ab3b5ef0"
   },
   "outputs": [
    {
     "name": "stderr",
     "output_type": "stream",
     "text": [
      "/usr/local/lib/python3.8/dist-packages/sklearn/manifold/_t_sne.py:780: FutureWarning: The default initialization in TSNE will change from 'random' to 'pca' in 1.2.\n",
      "  warnings.warn(\n",
      "/usr/local/lib/python3.8/dist-packages/sklearn/manifold/_t_sne.py:790: FutureWarning: The default learning rate in TSNE will change from 200.0 to 'auto' in 1.2.\n",
      "  warnings.warn(\n",
      "WARNING:matplotlib.legend:No handles with labels found to put in legend.\n"
     ]
    },
    {
     "data": {
      "image/png": "[encoded data removed]",
      "text/plain": [
       "<Figure size 648x432 with 1 Axes>"
      ]
     },
     "metadata": {
      "needs_background": "light"
     },
     "output_type": "display_data"
    }
   ],
   "source": [
    "tsne = TSNE(n_components=2, random_state=0).fit_transform(model._vq_vae._embedding.weight.data.cpu())\n",
    "x, y = list(zip(*tsne))\n",
    "\n",
    "plt.figure(figsize=(9, 6))\n",
    "plt.scatter(x, y)\n",
    "plt.legend()\n",
    "plt.show()"
   ]
  },
  {
   "cell_type": "markdown",
   "metadata": {
    "id": "zY5Z6eMAWREV"
   },
   "source": [
    "e) **METRIC 6**, Comparing different lengths of motifs (7-9-11) to a standard DB using TomTom tool https://meme-suite.org/meme/tools/tomtom\n",
    "\n",
    "However, there TomTom is only available through R, hence I used gimmemotifs: https://gimmemotifs.readthedocs.io/en/master/reference.html#gimme-scan"
   ]
  },
  {
   "cell_type": "markdown",
   "metadata": {
    "id": "EiAxnO_BWREV"
   },
   "source": [
    "First we have to convert the one hot encoded sequences to the original raw motif sequence.\n",
    "\n",
    "**NOTE**\n",
    "\n",
    "Change the following variable to control the motif length.\n",
    "\n",
    "Be carefull, the smaller the number that we set, the more memory will be consumed and it will run longer."
   ]
  },
  {
   "cell_type": "code",
   "execution_count": 24,
   "metadata": {
    "id": "e2dGLZ0PMnGW"
   },
   "outputs": [],
   "source": [
    "MOTIF_LENGTH = 200"
   ]
  },
  {
   "cell_type": "markdown",
   "metadata": {
    "id": "Jt2Msox5Rlno"
   },
   "source": [
    "Here we reverse the one hot encoding of the predictions from VQ-VAE"
   ]
  },
  {
   "cell_type": "code",
   "execution_count": 25,
   "metadata": {
    "id": "9FRhujDVWREV"
   },
   "outputs": [],
   "source": [
    "df_raw_sequences = []\n",
    "# iterate over all sequences\n",
    "for batch_prediction in whole_predictions_full:\n",
    "    for prediction in batch_prediction:\n",
    "        motif_holder = []\n",
    "        for nucleotide in prediction[0]:\n",
    "            motif_holder.append(NUCLEOTIDES_REVERSED[nucleotide.item()])\n",
    "\n",
    "        df_raw_sequences.append(\"\".join(motif_holder))"
   ]
  },
  {
   "cell_type": "markdown",
   "metadata": {
    "id": "Ccj70c-zWREV"
   },
   "source": [
    "Now we need to convert this list to either FASTA or bed and feed it to the gimme scan command in order to check occurances of motifs in jaspar vertebrates database"
   ]
  },
  {
   "cell_type": "code",
   "execution_count": 26,
   "metadata": {
    "id": "_w6H35D_WREV"
   },
   "outputs": [],
   "source": [
    "def save_motifs_to_fasta(motifs, fasta_file) -> None:\n",
    "    # Open the FASTA file in write mode\n",
    "    with open(fasta_file, \"w\") as f:\n",
    "        # Iterate over the motifs\n",
    "        for i, motif in enumerate(motifs):\n",
    "            for j in range(200 // MOTIF_LENGTH):\n",
    "                # Write the motif to the file\n",
    "                f.write(f\">motif_{i+1}_{j+1}\\n{motif[j*MOTIF_LENGTH:(j+1)*MOTIF_LENGTH]}\\n\")\n",
    "\n",
    "\n",
    "save_motifs_to_fasta(df_raw_sequences, \"recoded_motifs_seqs.fasta\")"
   ]
  },
  {
   "cell_type": "code",
   "execution_count": 27,
   "metadata": {
    "id": "hgokDO9tWREW"
   },
   "outputs": [],
   "source": [
    "def motifs_from_fasta(fasta: str) -> pd.DataFrame:\n",
    "    \"\"\"\n",
    "    Extract motifs from fasta.\n",
    "    \"\"\"\n",
    "    print('Computing Motifs....')\n",
    "    !gimme scan $fasta -p  JASPAR2020_vertebrates -g hg38 > train_results_motifs.bed\n",
    "    df_results_seq_guime = pd.read_csv('train_results_motifs.bed', sep='\\t', skiprows=5, header=None)\n",
    "    return df_results_seq_guime"
   ]
  },
  {
   "cell_type": "code",
   "execution_count": 28,
   "metadata": {
    "colab": {
     "base_uri": "https://localhost:8080/"
    },
    "id": "z9q5oNoWPCx3",
    "outputId": "7766d581-359e-45ad-d0bb-26b301a1610c"
   },
   "outputs": [
    {
     "name": "stdout",
     "output_type": "stream",
     "text": [
      "Computing Motifs....\n",
      "2022-12-14 15:08:24,364 - INFO - No config found.\n",
      "2022-12-14 15:08:24,364 - INFO - Creating new config.\n",
      "2022-12-14 15:08:24,366 - INFO - Using included version of MDmodule.\n",
      "2022-12-14 15:08:24,383 - WARNING - MEME not found. To include it you will have to install it.\n",
      "2022-12-14 15:08:24,396 - WARNING - MEMEW not found. To include it you will have to install it.\n",
      "2022-12-14 15:08:24,409 - WARNING - DREME not found. To include it you will have to install it.\n",
      "2022-12-14 15:08:24,423 - WARNING - Weeder not found. To include it you will have to install it.\n",
      "2022-12-14 15:08:24,436 - WARNING - GADEM not found. To include it you will have to install it.\n",
      "2022-12-14 15:08:24,436 - INFO - Using included version of MotifSampler.\n",
      "2022-12-14 15:08:24,449 - WARNING - Trawler not found. To include it you will have to install it.\n",
      "2022-12-14 15:08:24,450 - INFO - Using included version of Improbizer.\n",
      "2022-12-14 15:08:24,450 - INFO - Using included version of BioProspector.\n",
      "2022-12-14 15:08:24,450 - INFO - Using included version of Posmo.\n",
      "2022-12-14 15:08:24,450 - INFO - Using included version of ChIPMunk.\n",
      "2022-12-14 15:08:24,450 - INFO - Using included version of AMD.\n",
      "2022-12-14 15:08:24,450 - INFO - Using included version of HMS.\n",
      "2022-12-14 15:08:24,464 - WARNING - Homer not found. To include it you will have to install it.\n",
      "2022-12-14 15:08:24,477 - WARNING - XXmotif not found. To include it you will have to install it.\n",
      "2022-12-14 15:08:24,490 - WARNING - ProSampler not found. To include it you will have to install it.\n",
      "2022-12-14 15:08:24,491 - WARNING - Yamda not in config\n",
      "2022-12-14 15:08:24,504 - WARNING - DiNAMO not found. To include it you will have to install it.\n",
      "2022-12-14 15:08:24,517 - WARNING - RPMCMC not found. To include it you will have to install it.\n",
      "2022-12-14 15:08:24,517 - INFO - Configuration file: /root/.config/gimmemotifs/gimmemotifs.cfg\n",
      "2022-12-14 15:08:27,964 - INFO - determining FPR-based threshold\n",
      "scanning: 100% 29857/29857 [03:59<00:00, 124.64 sequences/s] \n",
      "CPU times: user 3.28 s, sys: 367 ms, total: 3.64 s\n",
      "Wall time: 6min\n"
     ]
    }
   ],
   "source": [
    "%%time\n",
    "df_results_seq_guime = motifs_from_fasta(\"recoded_motifs_seqs.fasta\")"
   ]
  },
  {
   "cell_type": "code",
   "execution_count": 29,
   "metadata": {
    "colab": {
     "base_uri": "https://localhost:8080/",
     "height": 424
    },
    "id": "lBlB5ynPG2PU",
    "outputId": "a710a3c8-b410-4f93-e30c-8072482ae9b4"
   },
   "outputs": [
    {
     "data": {
      "text/html": [
       "\n",
       "  <div id=\"df-5ffdef87-b61a-4fbe-a07f-06814394c1b8\">\n",
       "    <div class=\"colab-df-container\">\n",
       "      <div>\n",
       "<style scoped>\n",
       "    .dataframe tbody tr th:only-of-type {\n",
       "        vertical-align: middle;\n",
       "    }\n",
       "\n",
       "    .dataframe tbody tr th {\n",
       "        vertical-align: top;\n",
       "    }\n",
       "\n",
       "    .dataframe thead th {\n",
       "        text-align: right;\n",
       "    }\n",
       "</style>\n",
       "<table border=\"1\" class=\"dataframe\">\n",
       "  <thead>\n",
       "    <tr style=\"text-align: right;\">\n",
       "      <th></th>\n",
       "      <th>0</th>\n",
       "      <th>1</th>\n",
       "      <th>2</th>\n",
       "      <th>3</th>\n",
       "      <th>4</th>\n",
       "      <th>5</th>\n",
       "      <th>6</th>\n",
       "      <th>7</th>\n",
       "      <th>8</th>\n",
       "    </tr>\n",
       "  </thead>\n",
       "  <tbody>\n",
       "    <tr>\n",
       "      <th>0</th>\n",
       "      <td>motif_1_1</td>\n",
       "      <td>pfmscan</td>\n",
       "      <td>misc_feature</td>\n",
       "      <td>133</td>\n",
       "      <td>144</td>\n",
       "      <td>10.743772</td>\n",
       "      <td>-</td>\n",
       "      <td>.</td>\n",
       "      <td>motif_name \"MA0465.2_CDX2\" ; motif_instance \"T...</td>\n",
       "    </tr>\n",
       "    <tr>\n",
       "      <th>1</th>\n",
       "      <td>motif_1_1</td>\n",
       "      <td>pfmscan</td>\n",
       "      <td>misc_feature</td>\n",
       "      <td>100</td>\n",
       "      <td>107</td>\n",
       "      <td>8.870491</td>\n",
       "      <td>-</td>\n",
       "      <td>.</td>\n",
       "      <td>motif_name \"MA0611.1_Dux\" ; motif_instance \"TT...</td>\n",
       "    </tr>\n",
       "    <tr>\n",
       "      <th>2</th>\n",
       "      <td>motif_1_1</td>\n",
       "      <td>pfmscan</td>\n",
       "      <td>misc_feature</td>\n",
       "      <td>77</td>\n",
       "      <td>89</td>\n",
       "      <td>9.295637</td>\n",
       "      <td>-</td>\n",
       "      <td>.</td>\n",
       "      <td>motif_name \"MA0114.4_HNF4A\" ; motif_instance \"...</td>\n",
       "    </tr>\n",
       "    <tr>\n",
       "      <th>3</th>\n",
       "      <td>motif_1_1</td>\n",
       "      <td>pfmscan</td>\n",
       "      <td>misc_feature</td>\n",
       "      <td>77</td>\n",
       "      <td>89</td>\n",
       "      <td>9.161552</td>\n",
       "      <td>-</td>\n",
       "      <td>.</td>\n",
       "      <td>motif_name \"MA0484.2_HNF4G\" ; motif_instance \"...</td>\n",
       "    </tr>\n",
       "    <tr>\n",
       "      <th>4</th>\n",
       "      <td>motif_1_1</td>\n",
       "      <td>pfmscan</td>\n",
       "      <td>misc_feature</td>\n",
       "      <td>78</td>\n",
       "      <td>86</td>\n",
       "      <td>8.922553</td>\n",
       "      <td>+</td>\n",
       "      <td>.</td>\n",
       "      <td>motif_name \"MA1534.1_NR1I3\" ; motif_instance \"...</td>\n",
       "    </tr>\n",
       "    <tr>\n",
       "      <th>...</th>\n",
       "      <td>...</td>\n",
       "      <td>...</td>\n",
       "      <td>...</td>\n",
       "      <td>...</td>\n",
       "      <td>...</td>\n",
       "      <td>...</td>\n",
       "      <td>...</td>\n",
       "      <td>...</td>\n",
       "      <td>...</td>\n",
       "    </tr>\n",
       "    <tr>\n",
       "      <th>316955</th>\n",
       "      <td>motif_29857_1</td>\n",
       "      <td>pfmscan</td>\n",
       "      <td>misc_feature</td>\n",
       "      <td>44</td>\n",
       "      <td>54</td>\n",
       "      <td>9.689605</td>\n",
       "      <td>-</td>\n",
       "      <td>.</td>\n",
       "      <td>motif_name \"MA0522.3_TCF3\" ; motif_instance \"G...</td>\n",
       "    </tr>\n",
       "    <tr>\n",
       "      <th>316956</th>\n",
       "      <td>motif_29857_1</td>\n",
       "      <td>pfmscan</td>\n",
       "      <td>misc_feature</td>\n",
       "      <td>44</td>\n",
       "      <td>54</td>\n",
       "      <td>9.218449</td>\n",
       "      <td>-</td>\n",
       "      <td>.</td>\n",
       "      <td>motif_name \"MA0103.3_ZEB1\" ; motif_instance \"G...</td>\n",
       "    </tr>\n",
       "    <tr>\n",
       "      <th>316957</th>\n",
       "      <td>motif_29857_1</td>\n",
       "      <td>pfmscan</td>\n",
       "      <td>misc_feature</td>\n",
       "      <td>26</td>\n",
       "      <td>49</td>\n",
       "      <td>5.031169</td>\n",
       "      <td>+</td>\n",
       "      <td>.</td>\n",
       "      <td>motif_name \"UN0189.1_ZNF436\" ; motif_instance ...</td>\n",
       "    </tr>\n",
       "    <tr>\n",
       "      <th>316958</th>\n",
       "      <td>motif_29857_1</td>\n",
       "      <td>pfmscan</td>\n",
       "      <td>misc_feature</td>\n",
       "      <td>26</td>\n",
       "      <td>49</td>\n",
       "      <td>5.652352</td>\n",
       "      <td>-</td>\n",
       "      <td>.</td>\n",
       "      <td>motif_name \"UN0324.1_ZNF436\" ; motif_instance ...</td>\n",
       "    </tr>\n",
       "    <tr>\n",
       "      <th>316959</th>\n",
       "      <td>motif_29857_1</td>\n",
       "      <td>pfmscan</td>\n",
       "      <td>misc_feature</td>\n",
       "      <td>15</td>\n",
       "      <td>32</td>\n",
       "      <td>10.271222</td>\n",
       "      <td>-</td>\n",
       "      <td>.</td>\n",
       "      <td>motif_name \"UN0205.1_ZNF580\" ; motif_instance ...</td>\n",
       "    </tr>\n",
       "  </tbody>\n",
       "</table>\n",
       "<p>316960 rows × 9 columns</p>\n",
       "</div>\n",
       "      <button class=\"colab-df-convert\" onclick=\"convertToInteractive('df-5ffdef87-b61a-4fbe-a07f-06814394c1b8')\"\n",
       "              title=\"Convert this dataframe to an interactive table.\"\n",
       "              style=\"display:none;\">\n",
       "        \n",
       "  <svg xmlns=\"http://www.w3.org/2000/svg\" height=\"24px\"viewBox=\"0 0 24 24\"\n",
       "       width=\"24px\">\n",
       "    <path d=\"M0 0h24v24H0V0z\" fill=\"none\"/>\n",
       "    <path d=\"M18.56 5.44l.94 2.06.94-2.06 2.06-.94-2.06-.94-.94-2.06-.94 2.06-2.06.94zm-11 1L8.5 8.5l.94-2.06 2.06-.94-2.06-.94L8.5 2.5l-.94 2.06-2.06.94zm10 10l.94 2.06.94-2.06 2.06-.94-2.06-.94-.94-2.06-.94 2.06-2.06.94z\"/><path d=\"M17.41 7.96l-1.37-1.37c-.4-.4-.92-.59-1.43-.59-.52 0-1.04.2-1.43.59L10.3 9.45l-7.72 7.72c-.78.78-.78 2.05 0 2.83L4 21.41c.39.39.9.59 1.41.59.51 0 1.02-.2 1.41-.59l7.78-7.78 2.81-2.81c.8-.78.8-2.07 0-2.86zM5.41 20L4 18.59l7.72-7.72 1.47 1.35L5.41 20z\"/>\n",
       "  </svg>\n",
       "      </button>\n",
       "      \n",
       "  <style>\n",
       "    .colab-df-container {\n",
       "      display:flex;\n",
       "      flex-wrap:wrap;\n",
       "      gap: 12px;\n",
       "    }\n",
       "\n",
       "    .colab-df-convert {\n",
       "      background-color: #E8F0FE;\n",
       "      border: none;\n",
       "      border-radius: 50%;\n",
       "      cursor: pointer;\n",
       "      display: none;\n",
       "      fill: #1967D2;\n",
       "      height: 32px;\n",
       "      padding: 0 0 0 0;\n",
       "      width: 32px;\n",
       "    }\n",
       "\n",
       "    .colab-df-convert:hover {\n",
       "      background-color: #E2EBFA;\n",
       "      box-shadow: 0px 1px 2px rgba(60, 64, 67, 0.3), 0px 1px 3px 1px rgba(60, 64, 67, 0.15);\n",
       "      fill: #174EA6;\n",
       "    }\n",
       "\n",
       "    [theme=dark] .colab-df-convert {\n",
       "      background-color: #3B4455;\n",
       "      fill: #D2E3FC;\n",
       "    }\n",
       "\n",
       "    [theme=dark] .colab-df-convert:hover {\n",
       "      background-color: #434B5C;\n",
       "      box-shadow: 0px 1px 3px 1px rgba(0, 0, 0, 0.15);\n",
       "      filter: drop-shadow(0px 1px 2px rgba(0, 0, 0, 0.3));\n",
       "      fill: #FFFFFF;\n",
       "    }\n",
       "  </style>\n",
       "\n",
       "      <script>\n",
       "        const buttonEl =\n",
       "          document.querySelector('#df-5ffdef87-b61a-4fbe-a07f-06814394c1b8 button.colab-df-convert');\n",
       "        buttonEl.style.display =\n",
       "          google.colab.kernel.accessAllowed ? 'block' : 'none';\n",
       "\n",
       "        async function convertToInteractive(key) {\n",
       "          const element = document.querySelector('#df-5ffdef87-b61a-4fbe-a07f-06814394c1b8');\n",
       "          const dataTable =\n",
       "            await google.colab.kernel.invokeFunction('convertToInteractive',\n",
       "                                                     [key], {});\n",
       "          if (!dataTable) return;\n",
       "\n",
       "          const docLinkHtml = 'Like what you see? Visit the ' +\n",
       "            '<a target=\"_blank\" href=https://colab.research.google.com/notebooks/data_table.ipynb>data table notebook</a>'\n",
       "            + ' to learn more about interactive tables.';\n",
       "          element.innerHTML = '';\n",
       "          dataTable['output_type'] = 'display_data';\n",
       "          await google.colab.output.renderOutput(dataTable, element);\n",
       "          const docLink = document.createElement('div');\n",
       "          docLink.innerHTML = docLinkHtml;\n",
       "          element.appendChild(docLink);\n",
       "        }\n",
       "      </script>\n",
       "    </div>\n",
       "  </div>\n",
       "  "
      ],
      "text/plain": [
       "                    0        1             2    3    4          5  6  7  \\\n",
       "0           motif_1_1  pfmscan  misc_feature  133  144  10.743772  -  .   \n",
       "1           motif_1_1  pfmscan  misc_feature  100  107   8.870491  -  .   \n",
       "2           motif_1_1  pfmscan  misc_feature   77   89   9.295637  -  .   \n",
       "3           motif_1_1  pfmscan  misc_feature   77   89   9.161552  -  .   \n",
       "4           motif_1_1  pfmscan  misc_feature   78   86   8.922553  +  .   \n",
       "...               ...      ...           ...  ...  ...        ... .. ..   \n",
       "316955  motif_29857_1  pfmscan  misc_feature   44   54   9.689605  -  .   \n",
       "316956  motif_29857_1  pfmscan  misc_feature   44   54   9.218449  -  .   \n",
       "316957  motif_29857_1  pfmscan  misc_feature   26   49   5.031169  +  .   \n",
       "316958  motif_29857_1  pfmscan  misc_feature   26   49   5.652352  -  .   \n",
       "316959  motif_29857_1  pfmscan  misc_feature   15   32  10.271222  -  .   \n",
       "\n",
       "                                                        8  \n",
       "0       motif_name \"MA0465.2_CDX2\" ; motif_instance \"T...  \n",
       "1       motif_name \"MA0611.1_Dux\" ; motif_instance \"TT...  \n",
       "2       motif_name \"MA0114.4_HNF4A\" ; motif_instance \"...  \n",
       "3       motif_name \"MA0484.2_HNF4G\" ; motif_instance \"...  \n",
       "4       motif_name \"MA1534.1_NR1I3\" ; motif_instance \"...  \n",
       "...                                                   ...  \n",
       "316955  motif_name \"MA0522.3_TCF3\" ; motif_instance \"G...  \n",
       "316956  motif_name \"MA0103.3_ZEB1\" ; motif_instance \"G...  \n",
       "316957  motif_name \"UN0189.1_ZNF436\" ; motif_instance ...  \n",
       "316958  motif_name \"UN0324.1_ZNF436\" ; motif_instance ...  \n",
       "316959  motif_name \"UN0205.1_ZNF580\" ; motif_instance ...  \n",
       "\n",
       "[316960 rows x 9 columns]"
      ]
     },
     "execution_count": 29,
     "metadata": {},
     "output_type": "execute_result"
    }
   ],
   "source": [
    "df_results_seq_guime"
   ]
  },
  {
   "cell_type": "code",
   "execution_count": 30,
   "metadata": {
    "id": "x1qqachM_4gf"
   },
   "outputs": [],
   "source": [
    "N_MOTIF_OCCURANCES_TO_PLOT = 20"
   ]
  },
  {
   "cell_type": "code",
   "execution_count": null,
   "metadata": {
    "id": "SVz5KhZ14EZf"
   },
   "outputs": [],
   "source": [
    "sns.countplot(\n",
    "    y=\"motifs\",\n",
    "    data=df_results_seq_guime,\n",
    "    order=pd.value_counts(df_results_seq_guime[\"motifs\"]).iloc[:N_MOTIF_OCCURANCES_TO_PLOT].index,\n",
    ")"
   ]
  }
 ],
 "metadata": {
  "accelerator": "GPU",
  "colab": {
   "include_colab_link": true,
   "provenance": [],
   "toc_visible": true
  },
  "gpuClass": "standard",
  "kernelspec": {
   "display_name": "Python 3 (ipykernel)",
   "language": "python",
   "name": "python3"
  },
  "language_info": {
   "codemirror_mode": {
    "name": "ipython",
    "version": 3
   },
   "file_extension": ".py",
   "mimetype": "text/x-python",
   "name": "python",
   "nbconvert_exporter": "python",
   "pygments_lexer": "ipython3",
   "version": "3.10.8"
  }
 },
 "nbformat": 4,
 "nbformat_minor": 1
}
