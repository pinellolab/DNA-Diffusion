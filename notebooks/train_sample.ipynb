{
  "cells": [
    {
      "cell_type": "markdown",
      "metadata": {
        "id": "l3m4bEpCURko"
      },
      "source": [
        "# Cloning repository and installing dependencies"
      ]
    },
    {
      "cell_type": "code",
      "execution_count": null,
      "metadata": {
        "colab": {
          "base_uri": "https://localhost:8080/"
        },
        "collapsed": true,
        "id": "4QajyxxemyPX",
        "outputId": "71fe3f99-efe4-4cd2-a690-b4d31f4ca16a"
      },
      "outputs": [],
      "source": [
        "!git clone  https://github.com/pinellolab/DNA-Diffusion.git && cd DNA-Diffusion && uv sync"
      ]
    },
    {
      "cell_type": "code",
      "execution_count": 3,
      "metadata": {
        "colab": {
          "base_uri": "https://localhost:8080/"
        },
        "id": "FHCEKoJ8n_dU",
        "outputId": "7b40e926-c90c-4965-d819-7dec383ba1f8"
      },
      "outputs": [
        {
          "name": "stdout",
          "output_type": "stream",
          "text": [
            "/content/DNA-Diffusion\n"
          ]
        }
      ],
      "source": [
        "%cd DNA-Diffusion"
      ]
    },
    {
      "cell_type": "markdown",
      "metadata": {
        "id": "zvsX71SPRyEc"
      },
      "source": [
        "# Training"
      ]
    },
    {
      "cell_type": "code",
      "execution_count": 4,
      "metadata": {
        "colab": {
          "base_uri": "https://localhost:8080/"
        },
        "id": "tMC94T4OnD9-",
        "outputId": "afd9a23d-24e3-49f3-a3ee-cacbc35ea69d"
      },
      "outputs": [
        {
          "name": "stdout",
          "output_type": "stream",
          "text": [
            "model:\n",
            "  _target_: src.dnadiffusion.models.unet.UNet\n",
            "  dim: 200\n",
            "  channels: 1\n",
            "  dim_mults:\n",
            "  - 1\n",
            "  - 2\n",
            "  - 4\n",
            "  resnet_block_groups: 4\n",
            "data:\n",
            "  _target_: src.dnadiffusion.data.dataloader.get_dataset\n",
            "  data_path: data/K562_hESCT0_HepG2_GM12878_12k_sequences_per_group.txt\n",
            "  saved_data_path: data/encode_data.pkl\n",
            "  load_saved_data: true\n",
            "  debug: true\n",
            "optimizer:\n",
            "  _target_: torch.optim.Adam\n",
            "  lr: 0.0001\n",
            "diffusion:\n",
            "  _target_: src.dnadiffusion.models.diffusion.Diffusion\n",
            "  timesteps: 50\n",
            "  beta_start: 0.0001\n",
            "  beta_end: 0.2\n",
            "training:\n",
            "  distributed: false\n",
            "  precision: float32\n",
            "  num_workers: 1\n",
            "  pin_memory: false\n",
            "  batch_size: 1\n",
            "  sample_batch_size: 1\n",
            "  num_epochs: 2200\n",
            "  min_epochs: 5\n",
            "  patience: 2\n",
            "  log_step: 50\n",
            "  sample_epoch: 50000\n",
            "  number_of_samples: 10\n",
            "  use_wandb: false\n",
            "\n",
            "  0% 0/2200 [00:00<?, ?it/s]/content/DNA-Diffusion/.venv/lib/python3.12/site-packages/torch/_dynamo/eval_frame.py:838: UserWarning: torch.utils.checkpoint: the use_reentrant parameter should be passed explicitly. In version 2.5 we will raise an exception if use_reentrant is not passed. use_reentrant=False is recommended, but if you need to preserve the current default behavior, you can pass use_reentrant=True. Refer to docs for more details on the differences between the two variants.\n",
            "  return fn(*args, **kwargs)\n",
            "  0% 7/2200 [00:20<1:28:17,  2.42s/it]Early stopping at epoch 7, Best val loss: 0.3509651720523834 achieved at epoch 5\n",
            "  0% 7/2200 [00:20<1:45:56,  2.90s/it]\n"
          ]
        }
      ],
      "source": [
        "!uv run train.py -cn train_debug"
      ]
    },
    {
      "cell_type": "markdown",
      "metadata": {
        "id": "YF8zpmaHR4fa"
      },
      "source": [
        "# Running sampling with generated checkpoint"
      ]
    },
    {
      "cell_type": "code",
      "execution_count": 7,
      "metadata": {
        "colab": {
          "base_uri": "https://localhost:8080/"
        },
        "id": "Sh9xX8T8nyH7",
        "outputId": "063f54f4-07e3-4704-de15-9e73066a250f"
      },
      "outputs": [
        {
          "name": "stdout",
          "output_type": "stream",
          "text": [
            "model:\n",
            "  _target_: src.dnadiffusion.models.unet.UNet\n",
            "  dim: 200\n",
            "  channels: 1\n",
            "  dim_mults:\n",
            "  - 1\n",
            "  - 2\n",
            "  - 4\n",
            "  resnet_block_groups: 4\n",
            "data:\n",
            "  _target_: src.dnadiffusion.data.dataloader.get_dataset\n",
            "  data_path: data/K562_hESCT0_HepG2_GM12878_12k_sequences_per_group.txt\n",
            "  saved_data_path: data/encode_data.pkl\n",
            "  load_saved_data: true\n",
            "  debug: false\n",
            "diffusion:\n",
            "  _target_: src.dnadiffusion.models.diffusion.Diffusion\n",
            "  timesteps: 50\n",
            "  beta_start: 0.0001\n",
            "  beta_end: 0.2\n",
            "sampling:\n",
            "  checkpoint_path: checkpoints/model_epoch5_step6_valloss_0.350965.pt\n",
            "  sample_batch_size: 1\n",
            "  number_of_samples: 1\n",
            "\n",
            "(<src.dnadiffusion.data.dataloader.SequenceDataset object at 0x7b831aaabb30>, <src.dnadiffusion.data.dataloader.SequenceDataset object at 0x7b833d8ae900>, [1, 2, 3, 4], {1: 'GM12878_ENCLB441ZZZ', 2: 'HepG2_ENCLB029COU', 3: 'K562_ENCLB843GMH', 4: 'hESCT0_ENCLB449ZZZ'})\n",
            "Loading checkpoint\n",
            "Sending model to device\n",
            "Generating 1 samples for cell GM12878_ENCLB441ZZZ\n",
            "100% 1/1 [00:02<00:00,  2.38s/it]\n",
            "Generating 1 samples for cell HepG2_ENCLB029COU\n",
            "100% 1/1 [00:01<00:00,  1.72s/it]\n",
            "Generating 1 samples for cell K562_ENCLB843GMH\n",
            "100% 1/1 [00:01<00:00,  1.73s/it]\n",
            "Generating 1 samples for cell hESCT0_ENCLB449ZZZ\n",
            "100% 1/1 [00:01<00:00,  1.74s/it]\n"
          ]
        }
      ],
      "source": [
        "!uv run sample.py sampling.checkpoint_path='checkpoints/model_epoch5_step6_valloss_0.350965.pt' sampling.number_of_samples=1 sampling.sample_batch_size=1"
      ]
    },
    {
      "cell_type": "markdown",
      "metadata": {
        "id": "7Pqyr7ijTsWy"
      },
      "source": [
        "# Display generated sequences"
      ]
    },
    {
      "cell_type": "code",
      "execution_count": 13,
      "metadata": {
        "colab": {
          "base_uri": "https://localhost:8080/"
        },
        "id": "e-QnLm9KTHnW",
        "outputId": "d0c43947-8a52-4318-adee-9a67e04ee486"
      },
      "outputs": [
        {
          "name": "stdout",
          "output_type": "stream",
          "text": [
            "Displaying sequences from: data/outputs\n",
            "\n",
            "--- Cell Type: GM12878 (GM12878_ENCLB441ZZZ.txt) ---\n",
            "CGACCACTATCATCCTGCCCATACTTTCTCCGAGCTTGCGCTTAGTACTCGACCCGTCCTTAACAAACAGTCATCGTATTTGGTCGGGCCTAATACGGTTGGTGTTCTAAGCTTACAGTGATTACAGCGAGCTAGTTGACCATACGTATTTTGATTTGTTAATGCTACCCATGTTTATTCTACAAATCCATATCCGACAC\n",
            "-------------------------\n",
            "\n",
            "--- Cell Type: HepG2 (HepG2_ENCLB029COU.txt) ---\n",
            "GGTACGCGTATCCGCGGAATCATTAACCAAAACCCGCTTTCATACAGTACTAAAACCATCGAACACACTAACCTGCGTACGAATATCATAAACACCAGATCCCGTGCACACGGTGCTCACCGCAACCAACCACCTAATGCGTAAACCATTCGGATACATAACAAGTGCACACACGCACGTAGGGGCCTAGTAATCAGCCC\n",
            "-----------------------\n",
            "\n",
            "--- Cell Type: K562 (K562_ENCLB843GMH.txt) ---\n",
            "TAAAACAACTACCTAGAACATCTTAACACCCAACGTAACTTTCTTTCGTGTTTTTTTACACACACAGTAGAATAACTTCTTACAACGCAATCCCCGGCCAAGCCCTCATACATGTAGGTTGAACGAGTACGTATCAGCCAAGACGAAGTATCACAACATTATACACAGAACAGCCCGCGGGTAAACGTTATAAGTACCCA\n",
            "----------------------\n",
            "\n",
            "--- Cell Type: hESCT0 (hESCT0_ENCLB449ZZZ.txt) ---\n",
            "GACCATCTACTTACTTTGTTTTCGTAACATATCAGTATTATCTTATTTTTTTCTTGAATTGTTTTTGTGCATACTTTCGTATTAATTTTTAGTGATGCTTCCTGTGCCGTTCTCAGATCGTATAAGCATATCTTAGACGAATGGTTTGTATGCATCATCTCTTGATGAACACGTTAGTGCTTTTTATTTTTTCTTGGTTT\n",
            "------------------------\n",
            "\n"
          ]
        }
      ],
      "source": [
        "import os\n",
        "import subprocess\n",
        "\n",
        "def display_sequences(output_dir=\"data/outputs\"):\n",
        "    if not os.path.isdir(output_dir):\n",
        "        print(f\"Error: Directory '{output_dir}' not found.\")\n",
        "        return\n",
        "\n",
        "    print(f\"Displaying sequences from: {output_dir}\\n\")\n",
        "\n",
        "    for filename in sorted(os.listdir(output_dir)):\n",
        "        filepath = os.path.join(output_dir, filename)\n",
        "\n",
        "        if os.path.isfile(filepath) and \"gitkeep\" not in filepath:\n",
        "          cell_type = filename.split('_')[0]\n",
        "          print(f\"--- Cell Type: {cell_type} ({filename}) ---\")\n",
        "          result = subprocess.run(['cat', filepath], capture_output=True, text=True, check=True)\n",
        "          print(result.stdout)\n",
        "          print(\"-\" * (len(cell_type) + 18) + \"\\n\")\n",
        "\n",
        "display_sequences()"
      ]
    },
    {
      "cell_type": "code",
      "execution_count": null,
      "metadata": {
        "id": "CAVrZ1XDTL-H"
      },
      "outputs": [],
      "source": []
    }
  ],
  "metadata": {
    "accelerator": "GPU",
    "colab": {
      "gpuType": "T4",
      "provenance": []
    },
    "kernelspec": {
      "display_name": "Python 3",
      "name": "python3"
    },
    "language_info": {
      "name": "python"
    }
  },
  "nbformat": 4,
  "nbformat_minor": 0
}
